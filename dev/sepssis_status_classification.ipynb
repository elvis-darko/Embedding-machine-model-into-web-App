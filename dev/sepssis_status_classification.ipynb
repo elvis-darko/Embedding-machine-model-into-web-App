{
 "cells": [
  {
   "cell_type": "markdown",
   "metadata": {},
   "source": [
    "### PROJECT DESCRIPTION\n",
    "\n",
    "The data set contains information about the sepsis illness. Using exploratory data analysis (EDA), I seek to gain more insights into the data. I ask questions that will serve as guide to better understand the data. Also, I will create a hypothesis that will be tested. This will help to give more insight into the data.\n",
    "<br />\n",
    "<br />\n",
    "As a Data Scientist, I will create a machine learning model that will effectively classify the sepsis illness using the provided dataset."
   ]
  },
  {
   "cell_type": "markdown",
   "metadata": {},
   "source": [
    "### HYPOTHESIS FORMULATION"
   ]
  },
  {
   "cell_type": "markdown",
   "metadata": {},
   "source": [
    "Null Hypothesis: There is no significant association between body mass index (BMI) values (M11) and the risk of sepsis.\n",
    "\n",
    "Alternate Hypothesis: There is a significant association between body mass index (BMI) values (M11) and the risk of sepsis."
   ]
  },
  {
   "cell_type": "markdown",
   "metadata": {},
   "source": [
    "### EXPLORATORY QUESTIONS\n",
    "1. What percentage of patients were sepssis positive?\n",
    "2. What percentage of patients were sepssis negative?\n",
    "3. How many patients had no insurance cover and were sepssis positive?\n",
    "4. How many patients had insurance cover and were sepssis positive?\n",
    "5. What are the mean, maximum and minimum age of sepssis positive patients?\n",
    "6. What is the ratio of insurance holders to non-insurance holders?"
   ]
  },
  {
   "cell_type": "markdown",
   "metadata": {},
   "source": [
    "### IMPORT PACKAGES"
   ]
  },
  {
   "cell_type": "code",
   "execution_count": 63,
   "metadata": {},
   "outputs": [
    {
     "data": {
      "text/plain": [
       "<Figure size 1200x400 with 0 Axes>"
      ]
     },
     "metadata": {},
     "output_type": "display_data"
    }
   ],
   "source": [
    "# Import pandas and numpy\n",
    "import pandas as pd\n",
    "import numpy as np\n",
    "\n",
    "from scipy.stats import ttest_ind\n",
    "\n",
    "# Import matplotlib and seaborn\n",
    "import matplotlib.pyplot as plt\n",
    "import seaborn as sns\n",
    "plt.figure(figsize=(12, 4))\n",
    "plt.style.use(\"fivethirtyeight\")\n",
    "\n",
    "# Import machine learning models\n",
    "from sklearn.ensemble import GradientBoostingClassifier\n",
    "from sklearn.neural_network import MLPClassifier\n",
    "from sklearn.neighbors import KNeighborsClassifier\n",
    "from sklearn.tree import DecisionTreeClassifier\n",
    "\n",
    "# Import Pipeline, Scaler,Sampler, train_test_split, imputer\n",
    "from sklearn.pipeline import Pipeline\n",
    "from sklearn.preprocessing import StandardScaler\n",
    "from imblearn.over_sampling import RandomOverSampler\n",
    "from sklearn.model_selection import train_test_split\n",
    "from sklearn.impute import SimpleImputer\n",
    "\n",
    "# Import Encoders\n",
    "from sklearn.preprocessing import LabelEncoder\n",
    "import category_encoders as ce\n",
    "from category_encoders import BinaryEncoder\n",
    "from sklearn.preprocessing import OrdinalEncoder, OneHotEncoder\n",
    "\n",
    "# import metrics\n",
    "from sklearn.metrics import recall_score, mean_squared_log_error\n",
    "from sklearn.metrics import precision_score\n",
    "from sklearn.metrics import accuracy_score\n",
    "from sklearn.metrics import f1_score\n",
    "from sklearn.model_selection import GridSearchCV, cross_val_predict\n",
    "from sklearn.metrics import average_precision_score\n",
    "from sklearn.metrics import precision_recall_curve\n",
    "from sklearn.metrics import roc_curve, auc\n",
    "from sklearn.metrics import confusion_matrix, classification_report, roc_curve, roc_auc_score\n",
    "\n",
    "# import power bi into notebook to directly create visuals\n",
    "from powerbiclient import QuickVisualize, get_dataset_config\n",
    "\n",
    "# Import the DeviceCodeLoginAuthentication class to authenticate against Power BI\n",
    "from powerbiclient.authentication import DeviceCodeLoginAuthentication\n",
    "\n",
    "# Initiate device authentication\n",
    "#device_auth = DeviceCodeLoginAuthentication()\n",
    "\n",
    "import os, pickle, joblib\n",
    "%matplotlib inline\n",
    "\n",
    "import warnings\n",
    "warnings.filterwarnings('ignore', message='The default value of numeric_only in DataFrame.corr is deprecated')"
   ]
  },
  {
   "cell_type": "markdown",
   "metadata": {},
   "source": [
    "### LOAD DATA"
   ]
  },
  {
   "cell_type": "code",
   "execution_count": 109,
   "metadata": {},
   "outputs": [],
   "source": [
    "sepsis_train = pd.read_csv(\"Patients_Files_Train.csv\")\n",
    "sepsis_test = pd.read_csv(\"Patients_Files_Test.csv\")"
   ]
  },
  {
   "cell_type": "markdown",
   "metadata": {},
   "source": [
    "## EXPLORATORY DATA ANALYSIS"
   ]
  },
  {
   "cell_type": "code",
   "execution_count": 65,
   "metadata": {},
   "outputs": [
    {
     "data": {
      "text/html": [
       "<div>\n",
       "<style scoped>\n",
       "    .dataframe tbody tr th:only-of-type {\n",
       "        vertical-align: middle;\n",
       "    }\n",
       "\n",
       "    .dataframe tbody tr th {\n",
       "        vertical-align: top;\n",
       "    }\n",
       "\n",
       "    .dataframe thead th {\n",
       "        text-align: right;\n",
       "    }\n",
       "</style>\n",
       "<table border=\"1\" class=\"dataframe\">\n",
       "  <thead>\n",
       "    <tr style=\"text-align: right;\">\n",
       "      <th></th>\n",
       "      <th>ID</th>\n",
       "      <th>PRG</th>\n",
       "      <th>PL</th>\n",
       "      <th>PR</th>\n",
       "      <th>SK</th>\n",
       "      <th>TS</th>\n",
       "      <th>M11</th>\n",
       "      <th>BD2</th>\n",
       "      <th>Age</th>\n",
       "      <th>Insurance</th>\n",
       "      <th>Sepssis</th>\n",
       "    </tr>\n",
       "  </thead>\n",
       "  <tbody>\n",
       "    <tr>\n",
       "      <th>442</th>\n",
       "      <td>ICU200452</td>\n",
       "      <td>4</td>\n",
       "      <td>117</td>\n",
       "      <td>64</td>\n",
       "      <td>27</td>\n",
       "      <td>120</td>\n",
       "      <td>33.2</td>\n",
       "      <td>0.230</td>\n",
       "      <td>24</td>\n",
       "      <td>0</td>\n",
       "      <td>Negative</td>\n",
       "    </tr>\n",
       "    <tr>\n",
       "      <th>286</th>\n",
       "      <td>ICU200296</td>\n",
       "      <td>5</td>\n",
       "      <td>155</td>\n",
       "      <td>84</td>\n",
       "      <td>44</td>\n",
       "      <td>545</td>\n",
       "      <td>38.7</td>\n",
       "      <td>0.619</td>\n",
       "      <td>34</td>\n",
       "      <td>0</td>\n",
       "      <td>Negative</td>\n",
       "    </tr>\n",
       "    <tr>\n",
       "      <th>379</th>\n",
       "      <td>ICU200389</td>\n",
       "      <td>0</td>\n",
       "      <td>93</td>\n",
       "      <td>100</td>\n",
       "      <td>39</td>\n",
       "      <td>72</td>\n",
       "      <td>43.4</td>\n",
       "      <td>1.021</td>\n",
       "      <td>35</td>\n",
       "      <td>0</td>\n",
       "      <td>Negative</td>\n",
       "    </tr>\n",
       "    <tr>\n",
       "      <th>522</th>\n",
       "      <td>ICU200532</td>\n",
       "      <td>6</td>\n",
       "      <td>114</td>\n",
       "      <td>0</td>\n",
       "      <td>0</td>\n",
       "      <td>0</td>\n",
       "      <td>0.0</td>\n",
       "      <td>0.189</td>\n",
       "      <td>26</td>\n",
       "      <td>1</td>\n",
       "      <td>Negative</td>\n",
       "    </tr>\n",
       "    <tr>\n",
       "      <th>200</th>\n",
       "      <td>ICU200210</td>\n",
       "      <td>0</td>\n",
       "      <td>113</td>\n",
       "      <td>80</td>\n",
       "      <td>16</td>\n",
       "      <td>0</td>\n",
       "      <td>31.0</td>\n",
       "      <td>0.874</td>\n",
       "      <td>21</td>\n",
       "      <td>1</td>\n",
       "      <td>Negative</td>\n",
       "    </tr>\n",
       "  </tbody>\n",
       "</table>\n",
       "</div>"
      ],
      "text/plain": [
       "            ID  PRG   PL   PR  SK   TS   M11    BD2  Age  Insurance   Sepssis\n",
       "442  ICU200452    4  117   64  27  120  33.2  0.230   24          0  Negative\n",
       "286  ICU200296    5  155   84  44  545  38.7  0.619   34          0  Negative\n",
       "379  ICU200389    0   93  100  39   72  43.4  1.021   35          0  Negative\n",
       "522  ICU200532    6  114    0   0    0   0.0  0.189   26          1  Negative\n",
       "200  ICU200210    0  113   80  16    0  31.0  0.874   21          1  Negative"
      ]
     },
     "execution_count": 65,
     "metadata": {},
     "output_type": "execute_result"
    }
   ],
   "source": [
    "# check samples of train data\n",
    "\n",
    "pd.options.display.max_columns = None\n",
    "sepsis_train.sample(5, random_state=1)"
   ]
  },
  {
   "cell_type": "code",
   "execution_count": 66,
   "metadata": {},
   "outputs": [
    {
     "name": "stdout",
     "output_type": "stream",
     "text": [
      "<class 'pandas.core.frame.DataFrame'>\n",
      "RangeIndex: 599 entries, 0 to 598\n",
      "Data columns (total 11 columns):\n",
      " #   Column     Non-Null Count  Dtype  \n",
      "---  ------     --------------  -----  \n",
      " 0   ID         599 non-null    object \n",
      " 1   PRG        599 non-null    int64  \n",
      " 2   PL         599 non-null    int64  \n",
      " 3   PR         599 non-null    int64  \n",
      " 4   SK         599 non-null    int64  \n",
      " 5   TS         599 non-null    int64  \n",
      " 6   M11        599 non-null    float64\n",
      " 7   BD2        599 non-null    float64\n",
      " 8   Age        599 non-null    int64  \n",
      " 9   Insurance  599 non-null    int64  \n",
      " 10  Sepssis    599 non-null    object \n",
      "dtypes: float64(2), int64(7), object(2)\n",
      "memory usage: 51.6+ KB\n"
     ]
    }
   ],
   "source": [
    "# Check basic info of train data\n",
    "\n",
    "sepsis_train.info()"
   ]
  },
  {
   "cell_type": "code",
   "execution_count": 67,
   "metadata": {},
   "outputs": [
    {
     "name": "stdout",
     "output_type": "stream",
     "text": [
      "train dataframe shape: (599, 11)\n"
     ]
    }
   ],
   "source": [
    "# Check shape of train data\n",
    "\n",
    "print(f\"train dataframe shape: {sepsis_train.shape}\")"
   ]
  },
  {
   "cell_type": "code",
   "execution_count": 68,
   "metadata": {},
   "outputs": [
    {
     "data": {
      "text/plain": [
       "ID           0\n",
       "PRG          0\n",
       "PL           0\n",
       "PR           0\n",
       "SK           0\n",
       "TS           0\n",
       "M11          0\n",
       "BD2          0\n",
       "Age          0\n",
       "Insurance    0\n",
       "Sepssis      0\n",
       "dtype: int64"
      ]
     },
     "execution_count": 68,
     "metadata": {},
     "output_type": "execute_result"
    }
   ],
   "source": [
    "# Check for null values\n",
    "\n",
    "sepsis_train.isnull().sum()"
   ]
  },
  {
   "cell_type": "markdown",
   "metadata": {},
   "source": [
    "There are no null values in the data"
   ]
  },
  {
   "cell_type": "code",
   "execution_count": 69,
   "metadata": {},
   "outputs": [
    {
     "data": {
      "text/plain": [
       "False"
      ]
     },
     "execution_count": 69,
     "metadata": {},
     "output_type": "execute_result"
    }
   ],
   "source": [
    "# Check for duplicated values\n",
    "\n",
    "sepsis_train.duplicated().any()"
   ]
  },
  {
   "cell_type": "markdown",
   "metadata": {},
   "source": [
    "There are no duplicated values in the data"
   ]
  },
  {
   "cell_type": "markdown",
   "metadata": {},
   "source": [
    "### UNIVARAITE ANALYSIS"
   ]
  },
  {
   "cell_type": "code",
   "execution_count": 70,
   "metadata": {},
   "outputs": [
    {
     "data": {
      "text/plain": [
       "Negative    391\n",
       "Positive    208\n",
       "Name: Sepssis, dtype: int64"
      ]
     },
     "execution_count": 70,
     "metadata": {},
     "output_type": "execute_result"
    }
   ],
   "source": [
    "# Check the value counts of target feature (Sepssis)\n",
    "sepsis_train[\"Sepssis\"].value_counts()"
   ]
  },
  {
   "cell_type": "code",
   "execution_count": 71,
   "metadata": {},
   "outputs": [
    {
     "data": {
      "image/png": "[encoded data removed]",
      "text/plain": [
       "<Figure size 1200x400 with 1 Axes>"
      ]
     },
     "metadata": {},
     "output_type": "display_data"
    }
   ],
   "source": [
    "#Plot value counts on a graph\n",
    "plt.figure(figsize=(12, 4))\n",
    "\n",
    "sns.countplot(x='Sepssis', data=sepsis_train)\n",
    "plt.title(\"Sepssis Status of Patients - Positive or Negative\")\n",
    "plt.xlabel('Sepssis status')\n",
    "plt.ylabel('Number of Patients')\n",
    "plt.show()"
   ]
  },
  {
   "cell_type": "markdown",
   "metadata": {},
   "source": [
    "From the above graph, 391 patients were recorded as being Sepssis Negative, whereas 280 were recorded as being Sepssis Positive."
   ]
  },
  {
   "cell_type": "code",
   "execution_count": 72,
   "metadata": {},
   "outputs": [
    {
     "data": {
      "text/plain": [
       "1    411\n",
       "0    188\n",
       "Name: Insurance, dtype: int64"
      ]
     },
     "execution_count": 72,
     "metadata": {},
     "output_type": "execute_result"
    }
   ],
   "source": [
    "# Check the value counts of patients having insurance coverage\n",
    "sepsis_train[\"Insurance\"].value_counts()"
   ]
  },
  {
   "cell_type": "code",
   "execution_count": 73,
   "metadata": {},
   "outputs": [
    {
     "data": {
      "image/png": "[encoded data removed]",
      "text/plain": [
       "<Figure size 1200x400 with 1 Axes>"
      ]
     },
     "metadata": {},
     "output_type": "display_data"
    }
   ],
   "source": [
    "#Plot value counts on a graph\n",
    "\n",
    "plt.figure(figsize=(12, 4))\n",
    "\n",
    "sns.countplot(x='Insurance', data=sepsis_train)\n",
    "plt.title(\"Patience with or without Insurance Coverage\")\n",
    "plt.xlabel('Insurance Coverage')\n",
    "plt.ylabel('Number of Patients')\n",
    "plt.show()"
   ]
  },
  {
   "cell_type": "markdown",
   "metadata": {},
   "source": [
    "From the graph, 411 patients had insurance coverages whereas 118 patients had no insurance coverage."
   ]
  },
  {
   "cell_type": "markdown",
   "metadata": {},
   "source": [
    "### BIVARIATE ANALYSIS"
   ]
  },
  {
   "cell_type": "code",
   "execution_count": 74,
   "metadata": {},
   "outputs": [
    {
     "data": {
      "text/plain": [
       "Sepssis\n",
       "Negative    31.478261\n",
       "Positive    36.697115\n",
       "Name: Age, dtype: float64"
      ]
     },
     "execution_count": 74,
     "metadata": {},
     "output_type": "execute_result"
    }
   ],
   "source": [
    "# Check the minimum age of Sepssis Positive and Sepssis Negative patients\n",
    "\n",
    "average_age = sepsis_train.groupby(\"Sepssis\")[\"Age\"].mean()\n",
    "average_age"
   ]
  },
  {
   "cell_type": "code",
   "execution_count": 75,
   "metadata": {},
   "outputs": [
    {
     "data": {
      "image/png": "[encoded data removed]",
      "text/plain": [
       "<Figure size 1200x400 with 1 Axes>"
      ]
     },
     "metadata": {},
     "output_type": "display_data"
    }
   ],
   "source": [
    "#Plot minimum age of patients on a graph\n",
    "plt.figure(figsize=(12, 4))\n",
    "\n",
    "average_age = sepsis_train.groupby(\"Sepssis\")[\"Age\"].mean()\n",
    "\n",
    "plt.barh(average_age.index, average_age.values, color=\"violet\")\n",
    "plt.title(\"Average Age of Patients with and without Sepssis\", fontsize=25)\n",
    "plt.xlabel(\"Average Age\")\n",
    "plt.ylabel(\"Sepssis Status\")\n",
    "plt.xticks()\n",
    "plt.yticks()\n",
    "plt.gca().invert_yaxis()\n",
    "plt.show()"
   ]
  },
  {
   "cell_type": "markdown",
   "metadata": {},
   "source": [
    "The Average age of Patients without Sepssis is 31 years and the average age of patients with Sepssis is 37 years."
   ]
  },
  {
   "cell_type": "code",
   "execution_count": 76,
   "metadata": {},
   "outputs": [
    {
     "data": {
      "text/plain": [
       "Sepssis\n",
       "Negative    21\n",
       "Positive    21\n",
       "Name: Age, dtype: int64"
      ]
     },
     "execution_count": 76,
     "metadata": {},
     "output_type": "execute_result"
    }
   ],
   "source": [
    "# Check the minimum age of Sepssis negative and Sepssis positive patients\n",
    "\n",
    "min_age = sepsis_train.groupby(\"Sepssis\")[\"Age\"].min()\n",
    "min_age"
   ]
  },
  {
   "cell_type": "code",
   "execution_count": 77,
   "metadata": {},
   "outputs": [
    {
     "data": {
      "image/png": "[encoded data removed]",
      "text/plain": [
       "<Figure size 1200x400 with 1 Axes>"
      ]
     },
     "metadata": {},
     "output_type": "display_data"
    }
   ],
   "source": [
    "#Plot minimum age of patients on a graph\n",
    "plt.figure(figsize=(12, 4))\n",
    "\n",
    "min_age = sepsis_train.groupby(\"Sepssis\")[\"Age\"].min()\n",
    "\n",
    "plt.barh(min_age.index, min_age.values, color=\"green\")\n",
    "plt.title(\"Minimum Age of Patients with and without Sepssis\", fontsize=25)\n",
    "plt.xlabel(\"Minimum Age\")\n",
    "plt.ylabel(\"Sepssis Status\")\n",
    "plt.xticks()\n",
    "plt.yticks()\n",
    "plt.gca().invert_yaxis()\n",
    "plt.show()"
   ]
  },
  {
   "cell_type": "markdown",
   "metadata": {},
   "source": [
    "The minimum age of patients with and without Sepssis is 21 years."
   ]
  },
  {
   "cell_type": "code",
   "execution_count": 78,
   "metadata": {},
   "outputs": [
    {
     "data": {
      "text/plain": [
       "Sepssis\n",
       "Negative    81\n",
       "Positive    67\n",
       "Name: Age, dtype: int64"
      ]
     },
     "execution_count": 78,
     "metadata": {},
     "output_type": "execute_result"
    }
   ],
   "source": [
    "# Check the minimum age of Sepssis negative and Sepssis positive patients\n",
    "\n",
    "max_age = sepsis_train.groupby(\"Sepssis\")[\"Age\"].max()\n",
    "max_age"
   ]
  },
  {
   "cell_type": "code",
   "execution_count": 79,
   "metadata": {},
   "outputs": [
    {
     "data": {
      "image/png": "[encoded data removed]",
      "text/plain": [
       "<Figure size 1200x400 with 1 Axes>"
      ]
     },
     "metadata": {},
     "output_type": "display_data"
    }
   ],
   "source": [
    "#Plot minimum age of patients on a graph\n",
    "plt.figure(figsize=(12, 4))\n",
    "\n",
    "max_age = sepsis_train.groupby(\"Sepssis\")[\"Age\"].max()\n",
    "\n",
    "plt.barh(max_age.index, max_age.values, color=\"yellow\")\n",
    "plt.title(\"Maximum Age of Patients with and without Sepssis\", fontsize=25)\n",
    "plt.xlabel(\"Maximum Age\")\n",
    "plt.ylabel(\"Sepssis Status\")\n",
    "plt.xticks()\n",
    "plt.yticks()\n",
    "plt.gca().invert_yaxis()\n",
    "plt.show()"
   ]
  },
  {
   "cell_type": "markdown",
   "metadata": {},
   "source": [
    "The Maximum Age of Patients with Sepssis is 67 years and the Maximum Age of patients without Sepssis is 81 years."
   ]
  },
  {
   "cell_type": "code",
   "execution_count": 80,
   "metadata": {},
   "outputs": [
    {
     "data": {
      "image/png": "[encoded data removed]",
      "text/plain": [
       "<Figure size 1200x400 with 1 Axes>"
      ]
     },
     "metadata": {},
     "output_type": "display_data"
    }
   ],
   "source": [
    "# Analying the Status of Patient by Insurance cover\n",
    "plt.figure(figsize=(12, 4))\n",
    "\n",
    "sns.countplot(x='Insurance', hue='Sepssis', data=sepsis_train)\n",
    "plt.title('Insurance Cover by status of Sepssis')\n",
    "plt.xlabel('Insurance Cover')\n",
    "plt.ylabel('Number of Patients')\n",
    "\n",
    "plt.show()"
   ]
  },
  {
   "cell_type": "markdown",
   "metadata": {},
   "source": [
    "Fom the graph above; \n",
    "- Patients with sepssis and had no insurance cover were 60.\n",
    "- Patients without sepssis and had no insurance cover were 130.\n",
    "- Patients with sepssis and had insurance 155.\n",
    "- Patients without sepssis and had insurance cover were 255."
   ]
  },
  {
   "cell_type": "code",
   "execution_count": 81,
   "metadata": {},
   "outputs": [
    {
     "data": {
      "image/png": "[encoded data removed]",
      "text/plain": [
       "<Figure size 640x480 with 2 Axes>"
      ]
     },
     "metadata": {},
     "output_type": "display_data"
    }
   ],
   "source": [
    "# Create correlation matrix\n",
    "\n",
    "corr = sepsis_train.corr()\n",
    "\n",
    "# Create heatmap\n",
    "sns.heatmap(corr, annot=True, cmap='coolwarm');\n",
    "plt.show()"
   ]
  },
  {
   "cell_type": "markdown",
   "metadata": {},
   "source": [
    "### HYPOTHESIS TESTING"
   ]
  },
  {
   "cell_type": "code",
   "execution_count": 82,
   "metadata": {},
   "outputs": [
    {
     "name": "stdout",
     "output_type": "stream",
     "text": [
      "T-test statistic: 8.134971813407034\n",
      "P-value: 2.3972519626645312e-15\n"
     ]
    }
   ],
   "source": [
    "# Separate the samples based on sepsis occurrence\n",
    "positive_sepsis = sepsis_train[sepsis_train['Sepssis'] == 'Positive']\n",
    "negative_sepsis = sepsis_train[sepsis_train['Sepssis'] == 'Negative']\n",
    "\n",
    "# Perform the two-sample t-test\n",
    "t_statistic, p_value = ttest_ind(positive_sepsis['M11'], negative_sepsis['M11'])\n",
    "\n",
    "# Print the t-test statistic and p-value\n",
    "print('T-test statistic:', t_statistic)\n",
    "print('P-value:', p_value)"
   ]
  },
  {
   "cell_type": "markdown",
   "metadata": {},
   "source": [
    "The p-value is significantly smaller than the commonly used significance level of 0.05, indicating strong evidence against the null hypothesis. Therefore, we can reject the null hypothesis and conclude that there is a significant association between body mass index (BMI) values (M11) and the risk of sepsis.\n",
    "\n",
    "Furthermore, since the T-test statistic is positive, it suggests that patients with higher body mass index (BMI) values have a lower risk of sepsis. This provides support for the alternative hypothesis that patients with higher BMI values are less likely to develop sepsis.\n",
    " \n",
    "In summary, the analysis suggests that there is a significant association between body mass index (BMI) values and the risk of sepsis, with higher BMI values being associated with a lower risk of sepsis.\n"
   ]
  },
  {
   "cell_type": "markdown",
   "metadata": {},
   "source": [
    "### EXPLORATORY QUESTIONS"
   ]
  },
  {
   "cell_type": "markdown",
   "metadata": {},
   "source": [
    "### FEATURE ENGINEERING AND  PROCESSING\n",
    "\n",
    "In this section, the data will be cleaned and processed. Also, if the need be, new features will be created."
   ]
  },
  {
   "cell_type": "markdown",
   "metadata": {},
   "source": [
    "**IMPORTANT NOTICE:** There are no duplicates to be dropped and no missing values to be imputed. This was realized in the EDA"
   ]
  },
  {
   "cell_type": "code",
   "execution_count": 110,
   "metadata": {},
   "outputs": [
    {
     "data": {
      "text/html": [
       "<div>\n",
       "<style scoped>\n",
       "    .dataframe tbody tr th:only-of-type {\n",
       "        vertical-align: middle;\n",
       "    }\n",
       "\n",
       "    .dataframe tbody tr th {\n",
       "        vertical-align: top;\n",
       "    }\n",
       "\n",
       "    .dataframe thead th {\n",
       "        text-align: right;\n",
       "    }\n",
       "</style>\n",
       "<table border=\"1\" class=\"dataframe\">\n",
       "  <thead>\n",
       "    <tr style=\"text-align: right;\">\n",
       "      <th></th>\n",
       "      <th>ID</th>\n",
       "      <th>PRG</th>\n",
       "      <th>PL</th>\n",
       "      <th>PR</th>\n",
       "      <th>SK</th>\n",
       "      <th>TS</th>\n",
       "      <th>M11</th>\n",
       "      <th>BD2</th>\n",
       "      <th>Age</th>\n",
       "      <th>Insurance</th>\n",
       "      <th>Sepssis</th>\n",
       "    </tr>\n",
       "  </thead>\n",
       "  <tbody>\n",
       "    <tr>\n",
       "      <th>0</th>\n",
       "      <td>ICU200010</td>\n",
       "      <td>6</td>\n",
       "      <td>148</td>\n",
       "      <td>72</td>\n",
       "      <td>35</td>\n",
       "      <td>0</td>\n",
       "      <td>33.6</td>\n",
       "      <td>0.627</td>\n",
       "      <td>50</td>\n",
       "      <td>0</td>\n",
       "      <td>Positive</td>\n",
       "    </tr>\n",
       "    <tr>\n",
       "      <th>1</th>\n",
       "      <td>ICU200011</td>\n",
       "      <td>1</td>\n",
       "      <td>85</td>\n",
       "      <td>66</td>\n",
       "      <td>29</td>\n",
       "      <td>0</td>\n",
       "      <td>26.6</td>\n",
       "      <td>0.351</td>\n",
       "      <td>31</td>\n",
       "      <td>0</td>\n",
       "      <td>Negative</td>\n",
       "    </tr>\n",
       "    <tr>\n",
       "      <th>2</th>\n",
       "      <td>ICU200012</td>\n",
       "      <td>8</td>\n",
       "      <td>183</td>\n",
       "      <td>64</td>\n",
       "      <td>0</td>\n",
       "      <td>0</td>\n",
       "      <td>23.3</td>\n",
       "      <td>0.672</td>\n",
       "      <td>32</td>\n",
       "      <td>1</td>\n",
       "      <td>Positive</td>\n",
       "    </tr>\n",
       "    <tr>\n",
       "      <th>3</th>\n",
       "      <td>ICU200013</td>\n",
       "      <td>1</td>\n",
       "      <td>89</td>\n",
       "      <td>66</td>\n",
       "      <td>23</td>\n",
       "      <td>94</td>\n",
       "      <td>28.1</td>\n",
       "      <td>0.167</td>\n",
       "      <td>21</td>\n",
       "      <td>1</td>\n",
       "      <td>Negative</td>\n",
       "    </tr>\n",
       "    <tr>\n",
       "      <th>4</th>\n",
       "      <td>ICU200014</td>\n",
       "      <td>0</td>\n",
       "      <td>137</td>\n",
       "      <td>40</td>\n",
       "      <td>35</td>\n",
       "      <td>168</td>\n",
       "      <td>43.1</td>\n",
       "      <td>2.288</td>\n",
       "      <td>33</td>\n",
       "      <td>1</td>\n",
       "      <td>Positive</td>\n",
       "    </tr>\n",
       "  </tbody>\n",
       "</table>\n",
       "</div>"
      ],
      "text/plain": [
       "          ID  PRG   PL  PR  SK   TS   M11    BD2  Age  Insurance   Sepssis\n",
       "0  ICU200010    6  148  72  35    0  33.6  0.627   50          0  Positive\n",
       "1  ICU200011    1   85  66  29    0  26.6  0.351   31          0  Negative\n",
       "2  ICU200012    8  183  64   0    0  23.3  0.672   32          1  Positive\n",
       "3  ICU200013    1   89  66  23   94  28.1  0.167   21          1  Negative\n",
       "4  ICU200014    0  137  40  35  168  43.1  2.288   33          1  Positive"
      ]
     },
     "execution_count": 110,
     "metadata": {},
     "output_type": "execute_result"
    }
   ],
   "source": [
    "# Call the head of data\n",
    "sepsis_train.head()"
   ]
  },
  {
   "cell_type": "code",
   "execution_count": 111,
   "metadata": {},
   "outputs": [],
   "source": [
    "# Drop ID column from dataset\n",
    "sepsis_train.drop(columns=\"ID\", inplace=True)"
   ]
  },
  {
   "cell_type": "code",
   "execution_count": 112,
   "metadata": {},
   "outputs": [],
   "source": [
    "# Create target feature and predicting feature\n",
    "\n",
    "X = sepsis_train.drop(\"Sepssis\", axis=1) #predicting feature\n",
    "y = sepsis_train[[\"Sepssis\"]]  # target feature"
   ]
  },
  {
   "cell_type": "code",
   "execution_count": 113,
   "metadata": {},
   "outputs": [],
   "source": [
    "# Split data into train and evaluation sets\n",
    "\n",
    "X_train, X_eval, y_train, y_eval = train_test_split(X, y, test_size=0.2, random_state=42, stratify=y)"
   ]
  },
  {
   "cell_type": "code",
   "execution_count": 114,
   "metadata": {},
   "outputs": [
    {
     "data": {
      "text/plain": [
       "((479, 9), (479, 1))"
      ]
     },
     "execution_count": 114,
     "metadata": {},
     "output_type": "execute_result"
    }
   ],
   "source": [
    "#Check shape of training sets\n",
    "\n",
    "X_train.shape, y_train.shape"
   ]
  },
  {
   "cell_type": "code",
   "execution_count": 115,
   "metadata": {},
   "outputs": [
    {
     "data": {
      "text/plain": [
       "((120, 9), (120, 1))"
      ]
     },
     "execution_count": 115,
     "metadata": {},
     "output_type": "execute_result"
    }
   ],
   "source": [
    "# Check shape of evaluationsets\n",
    "\n",
    "X_eval.shape, y_eval.shape"
   ]
  },
  {
   "cell_type": "code",
   "execution_count": 116,
   "metadata": {},
   "outputs": [
    {
     "data": {
      "text/plain": [
       "(Sepssis \n",
       " Negative    0.653445\n",
       " Positive    0.346555\n",
       " dtype: float64,\n",
       " Sepssis \n",
       " Negative    0.65\n",
       " Positive    0.35\n",
       " dtype: float64)"
      ]
     },
     "execution_count": 116,
     "metadata": {},
     "output_type": "execute_result"
    }
   ],
   "source": [
    "#Check the effectiveness of the stratified sampling\n",
    "\n",
    "y_train.value_counts(normalize=True), y_eval.value_counts(normalize=True)"
   ]
  },
  {
   "cell_type": "code",
   "execution_count": 117,
   "metadata": {},
   "outputs": [],
   "source": [
    "# Re-asign test data to a new varaibale called X_test\n",
    "\n",
    "X_test = sepsis_test.copy()\n",
    "X_test.drop(columns=\"ID\", inplace=True)"
   ]
  },
  {
   "cell_type": "code",
   "execution_count": 118,
   "metadata": {},
   "outputs": [
    {
     "data": {
      "text/plain": [
       "(169, 9)"
      ]
     },
     "execution_count": 118,
     "metadata": {},
     "output_type": "execute_result"
    }
   ],
   "source": [
    "# Check shape of X_test\n",
    "\n",
    "X_test.shape"
   ]
  },
  {
   "cell_type": "markdown",
   "metadata": {},
   "source": [
    "### FEATURE ENCODING"
   ]
  },
  {
   "cell_type": "code",
   "execution_count": 119,
   "metadata": {},
   "outputs": [],
   "source": [
    "#Encode categorical feature(y_train) with one hot encoder\n",
    "\n",
    "encoder = OneHotEncoder(sparse_output=False, drop=\"first\").fit(y_train)\n",
    "encoded_cols = encoder.get_feature_names_out().tolist()\n",
    "\n",
    "y_train_enc = pd.DataFrame(encoder.transform(y_train), columns=y_train.columns) "
   ]
  },
  {
   "cell_type": "code",
   "execution_count": 120,
   "metadata": {},
   "outputs": [],
   "source": [
    "# Encode categorical feature(y_eval) with one hot encoder\n",
    "\n",
    "encoder = OneHotEncoder(sparse_output=False, drop=\"first\").fit(y_eval)\n",
    "encoded_cols = encoder.get_feature_names_out().tolist()\n",
    "\n",
    "y_eval_enc = pd.DataFrame(encoder.transform(y_eval), columns=y_eval.columns)"
   ]
  },
  {
   "cell_type": "code",
   "execution_count": 121,
   "metadata": {},
   "outputs": [
    {
     "data": {
      "text/plain": [
       "(     Sepssis\n",
       " 115      0.0\n",
       " 116      0.0\n",
       " 117      0.0\n",
       " 118      0.0\n",
       " 119      0.0,\n",
       "       Sepssis\n",
       " 517  Negative\n",
       " 94   Negative\n",
       " 496  Negative\n",
       " 582  Negative\n",
       " 436  Negative)"
      ]
     },
     "execution_count": 121,
     "metadata": {},
     "output_type": "execute_result"
    }
   ],
   "source": [
    "# Check enocoded variable(y_eval_enc) against ctegorical variable (y_eval)\n",
    "\n",
    "y_eval_enc.tail(), y_eval.tail()"
   ]
  },
  {
   "cell_type": "code",
   "execution_count": 122,
   "metadata": {},
   "outputs": [
    {
     "data": {
      "text/plain": [
       "(     Sepssis\n",
       " 474      0.0\n",
       " 475      1.0\n",
       " 476      1.0\n",
       " 477      0.0\n",
       " 478      0.0,\n",
       "       Sepssis\n",
       " 253  Negative\n",
       " 230  Positive\n",
       " 131  Positive\n",
       " 107  Negative\n",
       " 395  Negative)"
      ]
     },
     "execution_count": 122,
     "metadata": {},
     "output_type": "execute_result"
    }
   ],
   "source": [
    "# Check enocoded variable(y_train_enc) against ctegorical variable (y_train)\n",
    "\n",
    "y_train_enc.tail(), y_train.tail()"
   ]
  },
  {
   "cell_type": "code",
   "execution_count": 123,
   "metadata": {},
   "outputs": [
    {
     "data": {
      "text/plain": [
       "((120, 1), (479, 1))"
      ]
     },
     "execution_count": 123,
     "metadata": {},
     "output_type": "execute_result"
    }
   ],
   "source": [
    "# Check shape of encoded features\n",
    "\n",
    "y_eval_enc.shape, y_train_enc.shape"
   ]
  },
  {
   "cell_type": "markdown",
   "metadata": {},
   "source": [
    "### Use imputer for Machine Learning"
   ]
  },
  {
   "cell_type": "code",
   "execution_count": 124,
   "metadata": {},
   "outputs": [],
   "source": [
    "imputer = SimpleImputer(strategy='mean').fit(X_train)"
   ]
  },
  {
   "cell_type": "code",
   "execution_count": 125,
   "metadata": {},
   "outputs": [],
   "source": [
    "X_train = pd.DataFrame(imputer.transform(X_train), columns = X_train.columns)\n",
    "X_eval = pd.DataFrame(imputer.transform(X_eval), columns = X_eval.columns)\n",
    "X_test = pd.DataFrame(imputer.transform(X_test), columns = X_eval.columns)"
   ]
  },
  {
   "cell_type": "markdown",
   "metadata": {},
   "source": [
    "### FEATURE SCALING"
   ]
  },
  {
   "cell_type": "code",
   "execution_count": 127,
   "metadata": {},
   "outputs": [],
   "source": [
    "# Use standard scaler to scale and fit numeric datasets\n",
    "\n",
    "scaler = StandardScaler().fit(X_train)"
   ]
  },
  {
   "cell_type": "code",
   "execution_count": 128,
   "metadata": {},
   "outputs": [],
   "source": [
    "# transform numeric datasets\n",
    "\n",
    "X_train_scaled = pd.DataFrame(scaler.transform(X_train), columns=X_train.columns)\n",
    "X_eval_scaled = pd.DataFrame(scaler.transform(X_eval), columns=X_eval.columns)\n",
    "X_test_scaled = pd.DataFrame(scaler.transform(X_test), columns=X_test.columns)"
   ]
  },
  {
   "cell_type": "code",
   "execution_count": 129,
   "metadata": {},
   "outputs": [
    {
     "data": {
      "text/html": [
       "<div>\n",
       "<style scoped>\n",
       "    .dataframe tbody tr th:only-of-type {\n",
       "        vertical-align: middle;\n",
       "    }\n",
       "\n",
       "    .dataframe tbody tr th {\n",
       "        vertical-align: top;\n",
       "    }\n",
       "\n",
       "    .dataframe thead th {\n",
       "        text-align: right;\n",
       "    }\n",
       "</style>\n",
       "<table border=\"1\" class=\"dataframe\">\n",
       "  <thead>\n",
       "    <tr style=\"text-align: right;\">\n",
       "      <th></th>\n",
       "      <th>PRG</th>\n",
       "      <th>PL</th>\n",
       "      <th>PR</th>\n",
       "      <th>SK</th>\n",
       "      <th>TS</th>\n",
       "      <th>M11</th>\n",
       "      <th>BD2</th>\n",
       "      <th>Age</th>\n",
       "      <th>Insurance</th>\n",
       "    </tr>\n",
       "  </thead>\n",
       "  <tbody>\n",
       "    <tr>\n",
       "      <th>0</th>\n",
       "      <td>0.936259</td>\n",
       "      <td>-0.541760</td>\n",
       "      <td>0.292468</td>\n",
       "      <td>1.227874</td>\n",
       "      <td>0.278949</td>\n",
       "      <td>0.706624</td>\n",
       "      <td>-0.824511</td>\n",
       "      <td>0.991413</td>\n",
       "      <td>0.678503</td>\n",
       "    </tr>\n",
       "    <tr>\n",
       "      <th>1</th>\n",
       "      <td>0.936259</td>\n",
       "      <td>1.923458</td>\n",
       "      <td>0.812484</td>\n",
       "      <td>0.025886</td>\n",
       "      <td>1.108512</td>\n",
       "      <td>0.534049</td>\n",
       "      <td>0.260234</td>\n",
       "      <td>1.504619</td>\n",
       "      <td>-1.473834</td>\n",
       "    </tr>\n",
       "    <tr>\n",
       "      <th>2</th>\n",
       "      <td>-0.563634</td>\n",
       "      <td>-1.197071</td>\n",
       "      <td>0.188465</td>\n",
       "      <td>-0.353689</td>\n",
       "      <td>0.002429</td>\n",
       "      <td>-0.235902</td>\n",
       "      <td>0.149488</td>\n",
       "      <td>-0.719274</td>\n",
       "      <td>0.678503</td>\n",
       "    </tr>\n",
       "    <tr>\n",
       "      <th>3</th>\n",
       "      <td>-0.263656</td>\n",
       "      <td>1.892252</td>\n",
       "      <td>-0.227548</td>\n",
       "      <td>0.278936</td>\n",
       "      <td>-0.054783</td>\n",
       "      <td>0.281824</td>\n",
       "      <td>-0.634255</td>\n",
       "      <td>-0.633740</td>\n",
       "      <td>-1.473834</td>\n",
       "    </tr>\n",
       "    <tr>\n",
       "      <th>4</th>\n",
       "      <td>-1.163592</td>\n",
       "      <td>-1.103456</td>\n",
       "      <td>-0.227548</td>\n",
       "      <td>0.089149</td>\n",
       "      <td>-0.092923</td>\n",
       "      <td>0.520774</td>\n",
       "      <td>0.143808</td>\n",
       "      <td>-1.061412</td>\n",
       "      <td>0.678503</td>\n",
       "    </tr>\n",
       "  </tbody>\n",
       "</table>\n",
       "</div>"
      ],
      "text/plain": [
       "        PRG        PL        PR        SK        TS       M11       BD2  \\\n",
       "0  0.936259 -0.541760  0.292468  1.227874  0.278949  0.706624 -0.824511   \n",
       "1  0.936259  1.923458  0.812484  0.025886  1.108512  0.534049  0.260234   \n",
       "2 -0.563634 -1.197071  0.188465 -0.353689  0.002429 -0.235902  0.149488   \n",
       "3 -0.263656  1.892252 -0.227548  0.278936 -0.054783  0.281824 -0.634255   \n",
       "4 -1.163592 -1.103456 -0.227548  0.089149 -0.092923  0.520774  0.143808   \n",
       "\n",
       "        Age  Insurance  \n",
       "0  0.991413   0.678503  \n",
       "1  1.504619  -1.473834  \n",
       "2 -0.719274   0.678503  \n",
       "3 -0.633740  -1.473834  \n",
       "4 -1.061412   0.678503  "
      ]
     },
     "execution_count": 129,
     "metadata": {},
     "output_type": "execute_result"
    }
   ],
   "source": [
    "# Check head of X_train_scaled\n",
    "\n",
    "X_train_scaled.head()"
   ]
  },
  {
   "cell_type": "code",
   "execution_count": 130,
   "metadata": {},
   "outputs": [
    {
     "data": {
      "text/html": [
       "<div>\n",
       "<style scoped>\n",
       "    .dataframe tbody tr th:only-of-type {\n",
       "        vertical-align: middle;\n",
       "    }\n",
       "\n",
       "    .dataframe tbody tr th {\n",
       "        vertical-align: top;\n",
       "    }\n",
       "\n",
       "    .dataframe thead th {\n",
       "        text-align: right;\n",
       "    }\n",
       "</style>\n",
       "<table border=\"1\" class=\"dataframe\">\n",
       "  <thead>\n",
       "    <tr style=\"text-align: right;\">\n",
       "      <th></th>\n",
       "      <th>PRG</th>\n",
       "      <th>PL</th>\n",
       "      <th>PR</th>\n",
       "      <th>SK</th>\n",
       "      <th>TS</th>\n",
       "      <th>M11</th>\n",
       "      <th>BD2</th>\n",
       "      <th>Age</th>\n",
       "      <th>Insurance</th>\n",
       "    </tr>\n",
       "  </thead>\n",
       "  <tbody>\n",
       "    <tr>\n",
       "      <th>0</th>\n",
       "      <td>-0.263656</td>\n",
       "      <td>-0.978634</td>\n",
       "      <td>-0.539557</td>\n",
       "      <td>-0.606739</td>\n",
       "      <td>-0.207346</td>\n",
       "      <td>-0.939477</td>\n",
       "      <td>-0.645614</td>\n",
       "      <td>-0.975877</td>\n",
       "      <td>0.678503</td>\n",
       "    </tr>\n",
       "    <tr>\n",
       "      <th>1</th>\n",
       "      <td>1.536217</td>\n",
       "      <td>1.143325</td>\n",
       "      <td>0.916487</td>\n",
       "      <td>0.468724</td>\n",
       "      <td>0.755709</td>\n",
       "      <td>0.321649</td>\n",
       "      <td>1.972541</td>\n",
       "      <td>0.734810</td>\n",
       "      <td>0.678503</td>\n",
       "    </tr>\n",
       "    <tr>\n",
       "      <th>2</th>\n",
       "      <td>-1.163592</td>\n",
       "      <td>-0.572966</td>\n",
       "      <td>-0.331551</td>\n",
       "      <td>-1.302627</td>\n",
       "      <td>-0.722247</td>\n",
       "      <td>-1.324452</td>\n",
       "      <td>-0.449678</td>\n",
       "      <td>-0.719274</td>\n",
       "      <td>0.678503</td>\n",
       "    </tr>\n",
       "    <tr>\n",
       "      <th>3</th>\n",
       "      <td>-0.563634</td>\n",
       "      <td>0.831272</td>\n",
       "      <td>0.396471</td>\n",
       "      <td>0.911561</td>\n",
       "      <td>1.127582</td>\n",
       "      <td>0.839374</td>\n",
       "      <td>-0.469556</td>\n",
       "      <td>-0.377137</td>\n",
       "      <td>0.678503</td>\n",
       "    </tr>\n",
       "    <tr>\n",
       "      <th>4</th>\n",
       "      <td>-1.163592</td>\n",
       "      <td>-0.167297</td>\n",
       "      <td>0.604477</td>\n",
       "      <td>0.848299</td>\n",
       "      <td>1.995285</td>\n",
       "      <td>1.635875</td>\n",
       "      <td>-0.929578</td>\n",
       "      <td>-0.548206</td>\n",
       "      <td>0.678503</td>\n",
       "    </tr>\n",
       "  </tbody>\n",
       "</table>\n",
       "</div>"
      ],
      "text/plain": [
       "        PRG        PL        PR        SK        TS       M11       BD2  \\\n",
       "0 -0.263656 -0.978634 -0.539557 -0.606739 -0.207346 -0.939477 -0.645614   \n",
       "1  1.536217  1.143325  0.916487  0.468724  0.755709  0.321649  1.972541   \n",
       "2 -1.163592 -0.572966 -0.331551 -1.302627 -0.722247 -1.324452 -0.449678   \n",
       "3 -0.563634  0.831272  0.396471  0.911561  1.127582  0.839374 -0.469556   \n",
       "4 -1.163592 -0.167297  0.604477  0.848299  1.995285  1.635875 -0.929578   \n",
       "\n",
       "        Age  Insurance  \n",
       "0 -0.975877   0.678503  \n",
       "1  0.734810   0.678503  \n",
       "2 -0.719274   0.678503  \n",
       "3 -0.377137   0.678503  \n",
       "4 -0.548206   0.678503  "
      ]
     },
     "execution_count": 130,
     "metadata": {},
     "output_type": "execute_result"
    }
   ],
   "source": [
    "# Check head of X_eval_scaled\n",
    "\n",
    "X_eval_scaled.head()"
   ]
  },
  {
   "cell_type": "code",
   "execution_count": 131,
   "metadata": {},
   "outputs": [
    {
     "data": {
      "text/html": [
       "<div>\n",
       "<style scoped>\n",
       "    .dataframe tbody tr th:only-of-type {\n",
       "        vertical-align: middle;\n",
       "    }\n",
       "\n",
       "    .dataframe tbody tr th {\n",
       "        vertical-align: top;\n",
       "    }\n",
       "\n",
       "    .dataframe thead th {\n",
       "        text-align: right;\n",
       "    }\n",
       "</style>\n",
       "<table border=\"1\" class=\"dataframe\">\n",
       "  <thead>\n",
       "    <tr style=\"text-align: right;\">\n",
       "      <th></th>\n",
       "      <th>PRG</th>\n",
       "      <th>PL</th>\n",
       "      <th>PR</th>\n",
       "      <th>SK</th>\n",
       "      <th>TS</th>\n",
       "      <th>M11</th>\n",
       "      <th>BD2</th>\n",
       "      <th>Age</th>\n",
       "      <th>Insurance</th>\n",
       "    </tr>\n",
       "  </thead>\n",
       "  <tbody>\n",
       "    <tr>\n",
       "      <th>0</th>\n",
       "      <td>-0.863613</td>\n",
       "      <td>-0.323323</td>\n",
       "      <td>-1.579588</td>\n",
       "      <td>-0.163901</td>\n",
       "      <td>0.421977</td>\n",
       "      <td>-1.165152</td>\n",
       "      <td>-0.248063</td>\n",
       "      <td>-0.633740</td>\n",
       "      <td>0.678503</td>\n",
       "    </tr>\n",
       "    <tr>\n",
       "      <th>1</th>\n",
       "      <td>-0.863613</td>\n",
       "      <td>-0.354529</td>\n",
       "      <td>1.020490</td>\n",
       "      <td>-0.100639</td>\n",
       "      <td>-0.722247</td>\n",
       "      <td>-0.634152</td>\n",
       "      <td>-0.267941</td>\n",
       "      <td>-0.804809</td>\n",
       "      <td>0.678503</td>\n",
       "    </tr>\n",
       "    <tr>\n",
       "      <th>2</th>\n",
       "      <td>0.636281</td>\n",
       "      <td>-0.728992</td>\n",
       "      <td>-3.555647</td>\n",
       "      <td>-1.302627</td>\n",
       "      <td>-0.722247</td>\n",
       "      <td>-1.085502</td>\n",
       "      <td>-0.864267</td>\n",
       "      <td>-0.462671</td>\n",
       "      <td>0.678503</td>\n",
       "    </tr>\n",
       "    <tr>\n",
       "      <th>3</th>\n",
       "      <td>-0.863613</td>\n",
       "      <td>0.144756</td>\n",
       "      <td>0.292468</td>\n",
       "      <td>0.974824</td>\n",
       "      <td>-0.722247</td>\n",
       "      <td>-0.541227</td>\n",
       "      <td>-1.119835</td>\n",
       "      <td>-0.291603</td>\n",
       "      <td>0.678503</td>\n",
       "    </tr>\n",
       "    <tr>\n",
       "      <th>4</th>\n",
       "      <td>0.936259</td>\n",
       "      <td>0.956094</td>\n",
       "      <td>0.500474</td>\n",
       "      <td>0.531986</td>\n",
       "      <td>0.479189</td>\n",
       "      <td>0.441124</td>\n",
       "      <td>0.561236</td>\n",
       "      <td>1.761222</td>\n",
       "      <td>-1.473834</td>\n",
       "    </tr>\n",
       "  </tbody>\n",
       "</table>\n",
       "</div>"
      ],
      "text/plain": [
       "        PRG        PL        PR        SK        TS       M11       BD2  \\\n",
       "0 -0.863613 -0.323323 -1.579588 -0.163901  0.421977 -1.165152 -0.248063   \n",
       "1 -0.863613 -0.354529  1.020490 -0.100639 -0.722247 -0.634152 -0.267941   \n",
       "2  0.636281 -0.728992 -3.555647 -1.302627 -0.722247 -1.085502 -0.864267   \n",
       "3 -0.863613  0.144756  0.292468  0.974824 -0.722247 -0.541227 -1.119835   \n",
       "4  0.936259  0.956094  0.500474  0.531986  0.479189  0.441124  0.561236   \n",
       "\n",
       "        Age  Insurance  \n",
       "0 -0.633740   0.678503  \n",
       "1 -0.804809   0.678503  \n",
       "2 -0.462671   0.678503  \n",
       "3 -0.291603   0.678503  \n",
       "4  1.761222  -1.473834  "
      ]
     },
     "execution_count": 131,
     "metadata": {},
     "output_type": "execute_result"
    }
   ],
   "source": [
    "# Check head of X_test_scaled\n",
    "\n",
    "X_test_scaled.head()"
   ]
  },
  {
   "cell_type": "markdown",
   "metadata": {},
   "source": [
    "### MACHINE LEARNING MODELING\n",
    "\n",
    "In this section, we are going to use our processed datasets to build, train, evaluate and compare four models.\n",
    "The models to be used are;\n",
    "- K Nearest Neighbor\n",
    "- Decision Tree Classifier\n",
    "- Gradient Boosting Machines\n",
    "- Neural Networks\n",
    "\n",
    "The evaluation metric will be their Root Mean Squared Errors, Accuracy, F-1 score"
   ]
  },
  {
   "cell_type": "markdown",
   "metadata": {},
   "source": [
    "### K Nearest Neighbor"
   ]
  },
  {
   "cell_type": "code",
   "execution_count": 132,
   "metadata": {},
   "outputs": [
    {
     "name": "stderr",
     "output_type": "stream",
     "text": [
      "C:\\Users\\elvis_d\\DATA_ANALYTICS\\venv_da\\Lib\\site-packages\\sklearn\\neighbors\\_classification.py:215: DataConversionWarning: A column-vector y was passed when a 1d array was expected. Please change the shape of y to (n_samples,), for example using ravel().\n",
      "  return self._fit(X, y)\n"
     ]
    },
    {
     "data": {
      "text/html": [
       "<style>#sk-container-id-5 {color: black;background-color: white;}#sk-container-id-5 pre{padding: 0;}#sk-container-id-5 div.sk-toggleable {background-color: white;}#sk-container-id-5 label.sk-toggleable__label {cursor: pointer;display: block;width: 100%;margin-bottom: 0;padding: 0.3em;box-sizing: border-box;text-align: center;}#sk-container-id-5 label.sk-toggleable__label-arrow:before {content: \"▸\";float: left;margin-right: 0.25em;color: #696969;}#sk-container-id-5 label.sk-toggleable__label-arrow:hover:before {color: black;}#sk-container-id-5 div.sk-estimator:hover label.sk-toggleable__label-arrow:before {color: black;}#sk-container-id-5 div.sk-toggleable__content {max-height: 0;max-width: 0;overflow: hidden;text-align: left;background-color: #f0f8ff;}#sk-container-id-5 div.sk-toggleable__content pre {margin: 0.2em;color: black;border-radius: 0.25em;background-color: #f0f8ff;}#sk-container-id-5 input.sk-toggleable__control:checked~div.sk-toggleable__content {max-height: 200px;max-width: 100%;overflow: auto;}#sk-container-id-5 input.sk-toggleable__control:checked~label.sk-toggleable__label-arrow:before {content: \"▾\";}#sk-container-id-5 div.sk-estimator input.sk-toggleable__control:checked~label.sk-toggleable__label {background-color: #d4ebff;}#sk-container-id-5 div.sk-label input.sk-toggleable__control:checked~label.sk-toggleable__label {background-color: #d4ebff;}#sk-container-id-5 input.sk-hidden--visually {border: 0;clip: rect(1px 1px 1px 1px);clip: rect(1px, 1px, 1px, 1px);height: 1px;margin: -1px;overflow: hidden;padding: 0;position: absolute;width: 1px;}#sk-container-id-5 div.sk-estimator {font-family: monospace;background-color: #f0f8ff;border: 1px dotted black;border-radius: 0.25em;box-sizing: border-box;margin-bottom: 0.5em;}#sk-container-id-5 div.sk-estimator:hover {background-color: #d4ebff;}#sk-container-id-5 div.sk-parallel-item::after {content: \"\";width: 100%;border-bottom: 1px solid gray;flex-grow: 1;}#sk-container-id-5 div.sk-label:hover label.sk-toggleable__label {background-color: #d4ebff;}#sk-container-id-5 div.sk-serial::before {content: \"\";position: absolute;border-left: 1px solid gray;box-sizing: border-box;top: 0;bottom: 0;left: 50%;z-index: 0;}#sk-container-id-5 div.sk-serial {display: flex;flex-direction: column;align-items: center;background-color: white;padding-right: 0.2em;padding-left: 0.2em;position: relative;}#sk-container-id-5 div.sk-item {position: relative;z-index: 1;}#sk-container-id-5 div.sk-parallel {display: flex;align-items: stretch;justify-content: center;background-color: white;position: relative;}#sk-container-id-5 div.sk-item::before, #sk-container-id-5 div.sk-parallel-item::before {content: \"\";position: absolute;border-left: 1px solid gray;box-sizing: border-box;top: 0;bottom: 0;left: 50%;z-index: -1;}#sk-container-id-5 div.sk-parallel-item {display: flex;flex-direction: column;z-index: 1;position: relative;background-color: white;}#sk-container-id-5 div.sk-parallel-item:first-child::after {align-self: flex-end;width: 50%;}#sk-container-id-5 div.sk-parallel-item:last-child::after {align-self: flex-start;width: 50%;}#sk-container-id-5 div.sk-parallel-item:only-child::after {width: 0;}#sk-container-id-5 div.sk-dashed-wrapped {border: 1px dashed gray;margin: 0 0.4em 0.5em 0.4em;box-sizing: border-box;padding-bottom: 0.4em;background-color: white;}#sk-container-id-5 div.sk-label label {font-family: monospace;font-weight: bold;display: inline-block;line-height: 1.2em;}#sk-container-id-5 div.sk-label-container {text-align: center;}#sk-container-id-5 div.sk-container {/* jupyter's `normalize.less` sets `[hidden] { display: none; }` but bootstrap.min.css set `[hidden] { display: none !important; }` so we also need the `!important` here to be able to override the default hidden behavior on the sphinx rendered scikit-learn.org. See: https://github.com/scikit-learn/scikit-learn/issues/21755 */display: inline-block !important;position: relative;}#sk-container-id-5 div.sk-text-repr-fallback {display: none;}</style><div id=\"sk-container-id-5\" class=\"sk-top-container\"><div class=\"sk-text-repr-fallback\"><pre>KNeighborsClassifier()</pre><b>In a Jupyter environment, please rerun this cell to show the HTML representation or trust the notebook. <br />On GitHub, the HTML representation is unable to render, please try loading this page with nbviewer.org.</b></div><div class=\"sk-container\" hidden><div class=\"sk-item\"><div class=\"sk-estimator sk-toggleable\"><input class=\"sk-toggleable__control sk-hidden--visually\" id=\"sk-estimator-id-5\" type=\"checkbox\" checked><label for=\"sk-estimator-id-5\" class=\"sk-toggleable__label sk-toggleable__label-arrow\">KNeighborsClassifier</label><div class=\"sk-toggleable__content\"><pre>KNeighborsClassifier()</pre></div></div></div></div></div>"
      ],
      "text/plain": [
       "KNeighborsClassifier()"
      ]
     },
     "execution_count": 132,
     "metadata": {},
     "output_type": "execute_result"
    }
   ],
   "source": [
    "# Define the KNN classifier with k=5\n",
    "knn = KNeighborsClassifier(n_neighbors=5)\n",
    "\n",
    "# Fit the KNN model on the training dataset\n",
    "knn.fit(X_train_scaled, y_train_enc)"
   ]
  },
  {
   "cell_type": "code",
   "execution_count": 133,
   "metadata": {},
   "outputs": [
    {
     "data": {
      "text/html": [
       "<div>\n",
       "<style scoped>\n",
       "    .dataframe tbody tr th:only-of-type {\n",
       "        vertical-align: middle;\n",
       "    }\n",
       "\n",
       "    .dataframe tbody tr th {\n",
       "        vertical-align: top;\n",
       "    }\n",
       "\n",
       "    .dataframe thead th {\n",
       "        text-align: right;\n",
       "    }\n",
       "</style>\n",
       "<table border=\"1\" class=\"dataframe\">\n",
       "  <thead>\n",
       "    <tr style=\"text-align: right;\">\n",
       "      <th></th>\n",
       "      <th>Sepssis</th>\n",
       "    </tr>\n",
       "  </thead>\n",
       "  <tbody>\n",
       "    <tr>\n",
       "      <th>115</th>\n",
       "      <td>0.0</td>\n",
       "    </tr>\n",
       "    <tr>\n",
       "      <th>116</th>\n",
       "      <td>0.0</td>\n",
       "    </tr>\n",
       "    <tr>\n",
       "      <th>117</th>\n",
       "      <td>0.0</td>\n",
       "    </tr>\n",
       "    <tr>\n",
       "      <th>118</th>\n",
       "      <td>0.0</td>\n",
       "    </tr>\n",
       "    <tr>\n",
       "      <th>119</th>\n",
       "      <td>0.0</td>\n",
       "    </tr>\n",
       "  </tbody>\n",
       "</table>\n",
       "</div>"
      ],
      "text/plain": [
       "     Sepssis\n",
       "115      0.0\n",
       "116      0.0\n",
       "117      0.0\n",
       "118      0.0\n",
       "119      0.0"
      ]
     },
     "execution_count": 133,
     "metadata": {},
     "output_type": "execute_result"
    }
   ],
   "source": [
    "# Make predictions on the eval dataset\n",
    "y_pred = pd.DataFrame(knn.predict(X_eval_scaled), columns=[\"Sepssis\"])\n",
    "y_pred.tail()"
   ]
  },
  {
   "cell_type": "code",
   "execution_count": 134,
   "metadata": {},
   "outputs": [
    {
     "data": {
      "text/html": [
       "<div>\n",
       "<style scoped>\n",
       "    .dataframe tbody tr th:only-of-type {\n",
       "        vertical-align: middle;\n",
       "    }\n",
       "\n",
       "    .dataframe tbody tr th {\n",
       "        vertical-align: top;\n",
       "    }\n",
       "\n",
       "    .dataframe thead th {\n",
       "        text-align: right;\n",
       "    }\n",
       "</style>\n",
       "<table border=\"1\" class=\"dataframe\">\n",
       "  <thead>\n",
       "    <tr style=\"text-align: right;\">\n",
       "      <th></th>\n",
       "      <th>PRG</th>\n",
       "      <th>PL</th>\n",
       "      <th>PR</th>\n",
       "      <th>SK</th>\n",
       "      <th>TS</th>\n",
       "      <th>M11</th>\n",
       "      <th>BD2</th>\n",
       "      <th>Age</th>\n",
       "      <th>Insurance</th>\n",
       "      <th>Sepssis</th>\n",
       "    </tr>\n",
       "  </thead>\n",
       "  <tbody>\n",
       "    <tr>\n",
       "      <th>0</th>\n",
       "      <td>-0.263656</td>\n",
       "      <td>-0.978634</td>\n",
       "      <td>-0.539557</td>\n",
       "      <td>-0.606739</td>\n",
       "      <td>-0.207346</td>\n",
       "      <td>-0.939477</td>\n",
       "      <td>-0.645614</td>\n",
       "      <td>-0.975877</td>\n",
       "      <td>0.678503</td>\n",
       "      <td>0.0</td>\n",
       "    </tr>\n",
       "    <tr>\n",
       "      <th>1</th>\n",
       "      <td>1.536217</td>\n",
       "      <td>1.143325</td>\n",
       "      <td>0.916487</td>\n",
       "      <td>0.468724</td>\n",
       "      <td>0.755709</td>\n",
       "      <td>0.321649</td>\n",
       "      <td>1.972541</td>\n",
       "      <td>0.734810</td>\n",
       "      <td>0.678503</td>\n",
       "      <td>1.0</td>\n",
       "    </tr>\n",
       "    <tr>\n",
       "      <th>2</th>\n",
       "      <td>-1.163592</td>\n",
       "      <td>-0.572966</td>\n",
       "      <td>-0.331551</td>\n",
       "      <td>-1.302627</td>\n",
       "      <td>-0.722247</td>\n",
       "      <td>-1.324452</td>\n",
       "      <td>-0.449678</td>\n",
       "      <td>-0.719274</td>\n",
       "      <td>0.678503</td>\n",
       "      <td>0.0</td>\n",
       "    </tr>\n",
       "    <tr>\n",
       "      <th>3</th>\n",
       "      <td>-0.563634</td>\n",
       "      <td>0.831272</td>\n",
       "      <td>0.396471</td>\n",
       "      <td>0.911561</td>\n",
       "      <td>1.127582</td>\n",
       "      <td>0.839374</td>\n",
       "      <td>-0.469556</td>\n",
       "      <td>-0.377137</td>\n",
       "      <td>0.678503</td>\n",
       "      <td>0.0</td>\n",
       "    </tr>\n",
       "    <tr>\n",
       "      <th>4</th>\n",
       "      <td>-1.163592</td>\n",
       "      <td>-0.167297</td>\n",
       "      <td>0.604477</td>\n",
       "      <td>0.848299</td>\n",
       "      <td>1.995285</td>\n",
       "      <td>1.635875</td>\n",
       "      <td>-0.929578</td>\n",
       "      <td>-0.548206</td>\n",
       "      <td>0.678503</td>\n",
       "      <td>0.0</td>\n",
       "    </tr>\n",
       "  </tbody>\n",
       "</table>\n",
       "</div>"
      ],
      "text/plain": [
       "        PRG        PL        PR        SK        TS       M11       BD2  \\\n",
       "0 -0.263656 -0.978634 -0.539557 -0.606739 -0.207346 -0.939477 -0.645614   \n",
       "1  1.536217  1.143325  0.916487  0.468724  0.755709  0.321649  1.972541   \n",
       "2 -1.163592 -0.572966 -0.331551 -1.302627 -0.722247 -1.324452 -0.449678   \n",
       "3 -0.563634  0.831272  0.396471  0.911561  1.127582  0.839374 -0.469556   \n",
       "4 -1.163592 -0.167297  0.604477  0.848299  1.995285  1.635875 -0.929578   \n",
       "\n",
       "        Age  Insurance  Sepssis  \n",
       "0 -0.975877   0.678503      0.0  \n",
       "1  0.734810   0.678503      1.0  \n",
       "2 -0.719274   0.678503      0.0  \n",
       "3 -0.377137   0.678503      0.0  \n",
       "4 -0.548206   0.678503      0.0  "
      ]
     },
     "execution_count": 134,
     "metadata": {},
     "output_type": "execute_result"
    }
   ],
   "source": [
    "# Concat evluation data and predicted to have a glance of full dataset\n",
    "\n",
    "knn_data = pd.concat([X_eval_scaled, y_pred], axis=1)\n",
    "knn_data.head()"
   ]
  },
  {
   "cell_type": "code",
   "execution_count": 135,
   "metadata": {},
   "outputs": [
    {
     "name": "stdout",
     "output_type": "stream",
     "text": [
      "              precision    recall  f1-score   support\n",
      "\n",
      "         0.0       0.78      0.81      0.79        78\n",
      "         1.0       0.62      0.57      0.59        42\n",
      "\n",
      "    accuracy                           0.73       120\n",
      "   macro avg       0.70      0.69      0.69       120\n",
      "weighted avg       0.72      0.72      0.72       120\n",
      "\n"
     ]
    }
   ],
   "source": [
    "# Check classification report\n",
    "\n",
    "cr = classification_report(y_eval_enc, y_pred)\n",
    "print(cr)"
   ]
  },
  {
   "cell_type": "code",
   "execution_count": 136,
   "metadata": {},
   "outputs": [
    {
     "name": "stdout",
     "output_type": "stream",
     "text": [
      "Accuracy: 0.72\n",
      "Precision: 0.62\n",
      "Recall: 0.57\n",
      "F1-score: 0.79\n",
      "RMSLE: 0.36\n"
     ]
    }
   ],
   "source": [
    "# Evaluate the metric scores of the K Nearest neighboour model\n",
    "\n",
    "# Calculate the accuracy score\n",
    "knn_accuracy = accuracy_score(y_eval_enc, y_pred)\n",
    "\n",
    "# Calculate the precision score\n",
    "knn_precision = precision_score(y_eval_enc, y_pred, pos_label=1.0)\n",
    "\n",
    "# Calculate the recall score\n",
    "knn_recall = recall_score(y_eval_enc, y_pred, pos_label=1.0)\n",
    "\n",
    "# Calculate the F1-score\n",
    "knn_f1 = f1_score(y_eval_enc, y_pred, pos_label=0.0)\n",
    "\n",
    "# Calculate the Root Mean Squared Log Error(RMSLE)\n",
    "knn_rmsle = np.sqrt(mean_squared_log_error(y_eval_enc, y_pred)).round(2)\n",
    "\n",
    "\n",
    "# Print the evaluation metrics\n",
    "print(\"Accuracy: {:.2f}\".format(knn_accuracy))\n",
    "print(\"Precision: {:.2f}\".format(knn_precision))\n",
    "print(\"Recall: {:.2f}\".format(knn_recall))\n",
    "print(\"F1-score: {:.2f}\".format(knn_f1))\n",
    "print(\"RMSLE: {:.2f}\".format(knn_rmsle))"
   ]
  },
  {
   "cell_type": "markdown",
   "metadata": {},
   "source": [
    "### Gradient Boosting Machines"
   ]
  },
  {
   "cell_type": "code",
   "execution_count": 137,
   "metadata": {},
   "outputs": [
    {
     "name": "stderr",
     "output_type": "stream",
     "text": [
      "C:\\Users\\elvis_d\\DATA_ANALYTICS\\venv_da\\Lib\\site-packages\\sklearn\\ensemble\\_gb.py:437: DataConversionWarning: A column-vector y was passed when a 1d array was expected. Please change the shape of y to (n_samples, ), for example using ravel().\n",
      "  y = column_or_1d(y, warn=True)\n"
     ]
    },
    {
     "data": {
      "text/html": [
       "<style>#sk-container-id-6 {color: black;background-color: white;}#sk-container-id-6 pre{padding: 0;}#sk-container-id-6 div.sk-toggleable {background-color: white;}#sk-container-id-6 label.sk-toggleable__label {cursor: pointer;display: block;width: 100%;margin-bottom: 0;padding: 0.3em;box-sizing: border-box;text-align: center;}#sk-container-id-6 label.sk-toggleable__label-arrow:before {content: \"▸\";float: left;margin-right: 0.25em;color: #696969;}#sk-container-id-6 label.sk-toggleable__label-arrow:hover:before {color: black;}#sk-container-id-6 div.sk-estimator:hover label.sk-toggleable__label-arrow:before {color: black;}#sk-container-id-6 div.sk-toggleable__content {max-height: 0;max-width: 0;overflow: hidden;text-align: left;background-color: #f0f8ff;}#sk-container-id-6 div.sk-toggleable__content pre {margin: 0.2em;color: black;border-radius: 0.25em;background-color: #f0f8ff;}#sk-container-id-6 input.sk-toggleable__control:checked~div.sk-toggleable__content {max-height: 200px;max-width: 100%;overflow: auto;}#sk-container-id-6 input.sk-toggleable__control:checked~label.sk-toggleable__label-arrow:before {content: \"▾\";}#sk-container-id-6 div.sk-estimator input.sk-toggleable__control:checked~label.sk-toggleable__label {background-color: #d4ebff;}#sk-container-id-6 div.sk-label input.sk-toggleable__control:checked~label.sk-toggleable__label {background-color: #d4ebff;}#sk-container-id-6 input.sk-hidden--visually {border: 0;clip: rect(1px 1px 1px 1px);clip: rect(1px, 1px, 1px, 1px);height: 1px;margin: -1px;overflow: hidden;padding: 0;position: absolute;width: 1px;}#sk-container-id-6 div.sk-estimator {font-family: monospace;background-color: #f0f8ff;border: 1px dotted black;border-radius: 0.25em;box-sizing: border-box;margin-bottom: 0.5em;}#sk-container-id-6 div.sk-estimator:hover {background-color: #d4ebff;}#sk-container-id-6 div.sk-parallel-item::after {content: \"\";width: 100%;border-bottom: 1px solid gray;flex-grow: 1;}#sk-container-id-6 div.sk-label:hover label.sk-toggleable__label {background-color: #d4ebff;}#sk-container-id-6 div.sk-serial::before {content: \"\";position: absolute;border-left: 1px solid gray;box-sizing: border-box;top: 0;bottom: 0;left: 50%;z-index: 0;}#sk-container-id-6 div.sk-serial {display: flex;flex-direction: column;align-items: center;background-color: white;padding-right: 0.2em;padding-left: 0.2em;position: relative;}#sk-container-id-6 div.sk-item {position: relative;z-index: 1;}#sk-container-id-6 div.sk-parallel {display: flex;align-items: stretch;justify-content: center;background-color: white;position: relative;}#sk-container-id-6 div.sk-item::before, #sk-container-id-6 div.sk-parallel-item::before {content: \"\";position: absolute;border-left: 1px solid gray;box-sizing: border-box;top: 0;bottom: 0;left: 50%;z-index: -1;}#sk-container-id-6 div.sk-parallel-item {display: flex;flex-direction: column;z-index: 1;position: relative;background-color: white;}#sk-container-id-6 div.sk-parallel-item:first-child::after {align-self: flex-end;width: 50%;}#sk-container-id-6 div.sk-parallel-item:last-child::after {align-self: flex-start;width: 50%;}#sk-container-id-6 div.sk-parallel-item:only-child::after {width: 0;}#sk-container-id-6 div.sk-dashed-wrapped {border: 1px dashed gray;margin: 0 0.4em 0.5em 0.4em;box-sizing: border-box;padding-bottom: 0.4em;background-color: white;}#sk-container-id-6 div.sk-label label {font-family: monospace;font-weight: bold;display: inline-block;line-height: 1.2em;}#sk-container-id-6 div.sk-label-container {text-align: center;}#sk-container-id-6 div.sk-container {/* jupyter's `normalize.less` sets `[hidden] { display: none; }` but bootstrap.min.css set `[hidden] { display: none !important; }` so we also need the `!important` here to be able to override the default hidden behavior on the sphinx rendered scikit-learn.org. See: https://github.com/scikit-learn/scikit-learn/issues/21755 */display: inline-block !important;position: relative;}#sk-container-id-6 div.sk-text-repr-fallback {display: none;}</style><div id=\"sk-container-id-6\" class=\"sk-top-container\"><div class=\"sk-text-repr-fallback\"><pre>GradientBoostingClassifier()</pre><b>In a Jupyter environment, please rerun this cell to show the HTML representation or trust the notebook. <br />On GitHub, the HTML representation is unable to render, please try loading this page with nbviewer.org.</b></div><div class=\"sk-container\" hidden><div class=\"sk-item\"><div class=\"sk-estimator sk-toggleable\"><input class=\"sk-toggleable__control sk-hidden--visually\" id=\"sk-estimator-id-6\" type=\"checkbox\" checked><label for=\"sk-estimator-id-6\" class=\"sk-toggleable__label sk-toggleable__label-arrow\">GradientBoostingClassifier</label><div class=\"sk-toggleable__content\"><pre>GradientBoostingClassifier()</pre></div></div></div></div></div>"
      ],
      "text/plain": [
       "GradientBoostingClassifier()"
      ]
     },
     "execution_count": 137,
     "metadata": {},
     "output_type": "execute_result"
    }
   ],
   "source": [
    "# Initialize the GBM classifier with default hyperparameters\n",
    "gbm = GradientBoostingClassifier()\n",
    "\n",
    "# Fit the GBM model on the training dataset\n",
    "gbm.fit(X_train_scaled, y_train_enc)"
   ]
  },
  {
   "cell_type": "code",
   "execution_count": 138,
   "metadata": {},
   "outputs": [
    {
     "data": {
      "text/html": [
       "<div>\n",
       "<style scoped>\n",
       "    .dataframe tbody tr th:only-of-type {\n",
       "        vertical-align: middle;\n",
       "    }\n",
       "\n",
       "    .dataframe tbody tr th {\n",
       "        vertical-align: top;\n",
       "    }\n",
       "\n",
       "    .dataframe thead th {\n",
       "        text-align: right;\n",
       "    }\n",
       "</style>\n",
       "<table border=\"1\" class=\"dataframe\">\n",
       "  <thead>\n",
       "    <tr style=\"text-align: right;\">\n",
       "      <th></th>\n",
       "      <th>Sepssis</th>\n",
       "    </tr>\n",
       "  </thead>\n",
       "  <tbody>\n",
       "    <tr>\n",
       "      <th>115</th>\n",
       "      <td>1.0</td>\n",
       "    </tr>\n",
       "    <tr>\n",
       "      <th>116</th>\n",
       "      <td>0.0</td>\n",
       "    </tr>\n",
       "    <tr>\n",
       "      <th>117</th>\n",
       "      <td>0.0</td>\n",
       "    </tr>\n",
       "    <tr>\n",
       "      <th>118</th>\n",
       "      <td>0.0</td>\n",
       "    </tr>\n",
       "    <tr>\n",
       "      <th>119</th>\n",
       "      <td>1.0</td>\n",
       "    </tr>\n",
       "  </tbody>\n",
       "</table>\n",
       "</div>"
      ],
      "text/plain": [
       "     Sepssis\n",
       "115      1.0\n",
       "116      0.0\n",
       "117      0.0\n",
       "118      0.0\n",
       "119      1.0"
      ]
     },
     "execution_count": 138,
     "metadata": {},
     "output_type": "execute_result"
    }
   ],
   "source": [
    "# Make predictions on the eval dataset\n",
    "\n",
    "y_pred = pd.DataFrame(gbm.predict(X_eval_scaled), columns=[\"Sepssis\"])\n",
    "y_pred.tail()"
   ]
  },
  {
   "cell_type": "code",
   "execution_count": 139,
   "metadata": {},
   "outputs": [
    {
     "data": {
      "text/html": [
       "<div>\n",
       "<style scoped>\n",
       "    .dataframe tbody tr th:only-of-type {\n",
       "        vertical-align: middle;\n",
       "    }\n",
       "\n",
       "    .dataframe tbody tr th {\n",
       "        vertical-align: top;\n",
       "    }\n",
       "\n",
       "    .dataframe thead th {\n",
       "        text-align: right;\n",
       "    }\n",
       "</style>\n",
       "<table border=\"1\" class=\"dataframe\">\n",
       "  <thead>\n",
       "    <tr style=\"text-align: right;\">\n",
       "      <th></th>\n",
       "      <th>PRG</th>\n",
       "      <th>PL</th>\n",
       "      <th>PR</th>\n",
       "      <th>SK</th>\n",
       "      <th>TS</th>\n",
       "      <th>M11</th>\n",
       "      <th>BD2</th>\n",
       "      <th>Age</th>\n",
       "      <th>Insurance</th>\n",
       "      <th>Sepssis</th>\n",
       "    </tr>\n",
       "  </thead>\n",
       "  <tbody>\n",
       "    <tr>\n",
       "      <th>0</th>\n",
       "      <td>-0.263656</td>\n",
       "      <td>-0.978634</td>\n",
       "      <td>-0.539557</td>\n",
       "      <td>-0.606739</td>\n",
       "      <td>-0.207346</td>\n",
       "      <td>-0.939477</td>\n",
       "      <td>-0.645614</td>\n",
       "      <td>-0.975877</td>\n",
       "      <td>0.678503</td>\n",
       "      <td>0.0</td>\n",
       "    </tr>\n",
       "    <tr>\n",
       "      <th>1</th>\n",
       "      <td>1.536217</td>\n",
       "      <td>1.143325</td>\n",
       "      <td>0.916487</td>\n",
       "      <td>0.468724</td>\n",
       "      <td>0.755709</td>\n",
       "      <td>0.321649</td>\n",
       "      <td>1.972541</td>\n",
       "      <td>0.734810</td>\n",
       "      <td>0.678503</td>\n",
       "      <td>1.0</td>\n",
       "    </tr>\n",
       "    <tr>\n",
       "      <th>2</th>\n",
       "      <td>-1.163592</td>\n",
       "      <td>-0.572966</td>\n",
       "      <td>-0.331551</td>\n",
       "      <td>-1.302627</td>\n",
       "      <td>-0.722247</td>\n",
       "      <td>-1.324452</td>\n",
       "      <td>-0.449678</td>\n",
       "      <td>-0.719274</td>\n",
       "      <td>0.678503</td>\n",
       "      <td>0.0</td>\n",
       "    </tr>\n",
       "    <tr>\n",
       "      <th>3</th>\n",
       "      <td>-0.563634</td>\n",
       "      <td>0.831272</td>\n",
       "      <td>0.396471</td>\n",
       "      <td>0.911561</td>\n",
       "      <td>1.127582</td>\n",
       "      <td>0.839374</td>\n",
       "      <td>-0.469556</td>\n",
       "      <td>-0.377137</td>\n",
       "      <td>0.678503</td>\n",
       "      <td>0.0</td>\n",
       "    </tr>\n",
       "    <tr>\n",
       "      <th>4</th>\n",
       "      <td>-1.163592</td>\n",
       "      <td>-0.167297</td>\n",
       "      <td>0.604477</td>\n",
       "      <td>0.848299</td>\n",
       "      <td>1.995285</td>\n",
       "      <td>1.635875</td>\n",
       "      <td>-0.929578</td>\n",
       "      <td>-0.548206</td>\n",
       "      <td>0.678503</td>\n",
       "      <td>0.0</td>\n",
       "    </tr>\n",
       "  </tbody>\n",
       "</table>\n",
       "</div>"
      ],
      "text/plain": [
       "        PRG        PL        PR        SK        TS       M11       BD2  \\\n",
       "0 -0.263656 -0.978634 -0.539557 -0.606739 -0.207346 -0.939477 -0.645614   \n",
       "1  1.536217  1.143325  0.916487  0.468724  0.755709  0.321649  1.972541   \n",
       "2 -1.163592 -0.572966 -0.331551 -1.302627 -0.722247 -1.324452 -0.449678   \n",
       "3 -0.563634  0.831272  0.396471  0.911561  1.127582  0.839374 -0.469556   \n",
       "4 -1.163592 -0.167297  0.604477  0.848299  1.995285  1.635875 -0.929578   \n",
       "\n",
       "        Age  Insurance  Sepssis  \n",
       "0 -0.975877   0.678503      0.0  \n",
       "1  0.734810   0.678503      1.0  \n",
       "2 -0.719274   0.678503      0.0  \n",
       "3 -0.377137   0.678503      0.0  \n",
       "4 -0.548206   0.678503      0.0  "
      ]
     },
     "execution_count": 139,
     "metadata": {},
     "output_type": "execute_result"
    }
   ],
   "source": [
    "# Concat evluation data and predicted to have a glance of full dataset\n",
    "\n",
    "gbm_data = pd.concat([X_eval_scaled, y_pred], axis=1)\n",
    "gbm_data.head()"
   ]
  },
  {
   "cell_type": "code",
   "execution_count": 140,
   "metadata": {},
   "outputs": [
    {
     "name": "stdout",
     "output_type": "stream",
     "text": [
      "              precision    recall  f1-score   support\n",
      "\n",
      "         0.0       0.76      0.82      0.79        78\n",
      "         1.0       0.61      0.52      0.56        42\n",
      "\n",
      "    accuracy                           0.72       120\n",
      "   macro avg       0.69      0.67      0.68       120\n",
      "weighted avg       0.71      0.72      0.71       120\n",
      "\n"
     ]
    }
   ],
   "source": [
    "# Check classification report\n",
    "\n",
    "cr = classification_report(y_eval_enc, y_pred)\n",
    "print(cr)"
   ]
  },
  {
   "cell_type": "code",
   "execution_count": 141,
   "metadata": {},
   "outputs": [
    {
     "name": "stdout",
     "output_type": "stream",
     "text": [
      "Accuracy: 0.72\n",
      "Precision: 0.61\n",
      "Recall: 0.52\n",
      "F1-score: 0.79\n",
      "RMSLE: 0.37\n"
     ]
    }
   ],
   "source": [
    "# Evaluate the metric scores of the gradient boosting model\n",
    "\n",
    "# Calculate the accuracy score\n",
    "gbm_accuracy = accuracy_score(y_eval_enc, y_pred)\n",
    "\n",
    "# Calculate the precision score\n",
    "gbm_precision = precision_score(y_eval_enc, y_pred, pos_label=1.0)\n",
    "\n",
    "# Calculate the recall score\n",
    "gbm_recall = recall_score(y_eval_enc, y_pred, pos_label=1.0)\n",
    "\n",
    "# Calculate the F1-score\n",
    "gbm_f1 = f1_score(y_eval_enc, y_pred, pos_label=0.0)\n",
    "\n",
    "# Calculate the Root Mean Squared Log Error(RMSLE)\n",
    "gbm_rmsle = np.sqrt(mean_squared_log_error(y_eval_enc, y_pred)).round(2)\n",
    "\n",
    "\n",
    "# Print the evaluation metrics\n",
    "print(\"Accuracy: {:.2f}\".format(gbm_accuracy))\n",
    "print(\"Precision: {:.2f}\".format(gbm_precision))\n",
    "print(\"Recall: {:.2f}\".format(gbm_recall))\n",
    "print(\"F1-score: {:.2f}\".format(gbm_f1))\n",
    "print(\"RMSLE: {:.2f}\".format(gbm_rmsle))"
   ]
  },
  {
   "cell_type": "markdown",
   "metadata": {},
   "source": [
    "### Decision Tree Classifier"
   ]
  },
  {
   "cell_type": "code",
   "execution_count": 142,
   "metadata": {},
   "outputs": [
    {
     "data": {
      "text/html": [
       "<style>#sk-container-id-7 {color: black;background-color: white;}#sk-container-id-7 pre{padding: 0;}#sk-container-id-7 div.sk-toggleable {background-color: white;}#sk-container-id-7 label.sk-toggleable__label {cursor: pointer;display: block;width: 100%;margin-bottom: 0;padding: 0.3em;box-sizing: border-box;text-align: center;}#sk-container-id-7 label.sk-toggleable__label-arrow:before {content: \"▸\";float: left;margin-right: 0.25em;color: #696969;}#sk-container-id-7 label.sk-toggleable__label-arrow:hover:before {color: black;}#sk-container-id-7 div.sk-estimator:hover label.sk-toggleable__label-arrow:before {color: black;}#sk-container-id-7 div.sk-toggleable__content {max-height: 0;max-width: 0;overflow: hidden;text-align: left;background-color: #f0f8ff;}#sk-container-id-7 div.sk-toggleable__content pre {margin: 0.2em;color: black;border-radius: 0.25em;background-color: #f0f8ff;}#sk-container-id-7 input.sk-toggleable__control:checked~div.sk-toggleable__content {max-height: 200px;max-width: 100%;overflow: auto;}#sk-container-id-7 input.sk-toggleable__control:checked~label.sk-toggleable__label-arrow:before {content: \"▾\";}#sk-container-id-7 div.sk-estimator input.sk-toggleable__control:checked~label.sk-toggleable__label {background-color: #d4ebff;}#sk-container-id-7 div.sk-label input.sk-toggleable__control:checked~label.sk-toggleable__label {background-color: #d4ebff;}#sk-container-id-7 input.sk-hidden--visually {border: 0;clip: rect(1px 1px 1px 1px);clip: rect(1px, 1px, 1px, 1px);height: 1px;margin: -1px;overflow: hidden;padding: 0;position: absolute;width: 1px;}#sk-container-id-7 div.sk-estimator {font-family: monospace;background-color: #f0f8ff;border: 1px dotted black;border-radius: 0.25em;box-sizing: border-box;margin-bottom: 0.5em;}#sk-container-id-7 div.sk-estimator:hover {background-color: #d4ebff;}#sk-container-id-7 div.sk-parallel-item::after {content: \"\";width: 100%;border-bottom: 1px solid gray;flex-grow: 1;}#sk-container-id-7 div.sk-label:hover label.sk-toggleable__label {background-color: #d4ebff;}#sk-container-id-7 div.sk-serial::before {content: \"\";position: absolute;border-left: 1px solid gray;box-sizing: border-box;top: 0;bottom: 0;left: 50%;z-index: 0;}#sk-container-id-7 div.sk-serial {display: flex;flex-direction: column;align-items: center;background-color: white;padding-right: 0.2em;padding-left: 0.2em;position: relative;}#sk-container-id-7 div.sk-item {position: relative;z-index: 1;}#sk-container-id-7 div.sk-parallel {display: flex;align-items: stretch;justify-content: center;background-color: white;position: relative;}#sk-container-id-7 div.sk-item::before, #sk-container-id-7 div.sk-parallel-item::before {content: \"\";position: absolute;border-left: 1px solid gray;box-sizing: border-box;top: 0;bottom: 0;left: 50%;z-index: -1;}#sk-container-id-7 div.sk-parallel-item {display: flex;flex-direction: column;z-index: 1;position: relative;background-color: white;}#sk-container-id-7 div.sk-parallel-item:first-child::after {align-self: flex-end;width: 50%;}#sk-container-id-7 div.sk-parallel-item:last-child::after {align-self: flex-start;width: 50%;}#sk-container-id-7 div.sk-parallel-item:only-child::after {width: 0;}#sk-container-id-7 div.sk-dashed-wrapped {border: 1px dashed gray;margin: 0 0.4em 0.5em 0.4em;box-sizing: border-box;padding-bottom: 0.4em;background-color: white;}#sk-container-id-7 div.sk-label label {font-family: monospace;font-weight: bold;display: inline-block;line-height: 1.2em;}#sk-container-id-7 div.sk-label-container {text-align: center;}#sk-container-id-7 div.sk-container {/* jupyter's `normalize.less` sets `[hidden] { display: none; }` but bootstrap.min.css set `[hidden] { display: none !important; }` so we also need the `!important` here to be able to override the default hidden behavior on the sphinx rendered scikit-learn.org. See: https://github.com/scikit-learn/scikit-learn/issues/21755 */display: inline-block !important;position: relative;}#sk-container-id-7 div.sk-text-repr-fallback {display: none;}</style><div id=\"sk-container-id-7\" class=\"sk-top-container\"><div class=\"sk-text-repr-fallback\"><pre>DecisionTreeClassifier()</pre><b>In a Jupyter environment, please rerun this cell to show the HTML representation or trust the notebook. <br />On GitHub, the HTML representation is unable to render, please try loading this page with nbviewer.org.</b></div><div class=\"sk-container\" hidden><div class=\"sk-item\"><div class=\"sk-estimator sk-toggleable\"><input class=\"sk-toggleable__control sk-hidden--visually\" id=\"sk-estimator-id-7\" type=\"checkbox\" checked><label for=\"sk-estimator-id-7\" class=\"sk-toggleable__label sk-toggleable__label-arrow\">DecisionTreeClassifier</label><div class=\"sk-toggleable__content\"><pre>DecisionTreeClassifier()</pre></div></div></div></div></div>"
      ],
      "text/plain": [
       "DecisionTreeClassifier()"
      ]
     },
     "execution_count": 142,
     "metadata": {},
     "output_type": "execute_result"
    }
   ],
   "source": [
    "# Initialize the Decsion Tree classifier with default hyperparameters\n",
    "dt = DecisionTreeClassifier()\n",
    "\n",
    "# Fit the Decision Tree model on the training dataset\n",
    "dt.fit(X_train_scaled, y_train_enc)"
   ]
  },
  {
   "cell_type": "code",
   "execution_count": 143,
   "metadata": {},
   "outputs": [
    {
     "data": {
      "text/html": [
       "<div>\n",
       "<style scoped>\n",
       "    .dataframe tbody tr th:only-of-type {\n",
       "        vertical-align: middle;\n",
       "    }\n",
       "\n",
       "    .dataframe tbody tr th {\n",
       "        vertical-align: top;\n",
       "    }\n",
       "\n",
       "    .dataframe thead th {\n",
       "        text-align: right;\n",
       "    }\n",
       "</style>\n",
       "<table border=\"1\" class=\"dataframe\">\n",
       "  <thead>\n",
       "    <tr style=\"text-align: right;\">\n",
       "      <th></th>\n",
       "      <th>Sepssis</th>\n",
       "    </tr>\n",
       "  </thead>\n",
       "  <tbody>\n",
       "    <tr>\n",
       "      <th>115</th>\n",
       "      <td>1.0</td>\n",
       "    </tr>\n",
       "    <tr>\n",
       "      <th>116</th>\n",
       "      <td>0.0</td>\n",
       "    </tr>\n",
       "    <tr>\n",
       "      <th>117</th>\n",
       "      <td>0.0</td>\n",
       "    </tr>\n",
       "    <tr>\n",
       "      <th>118</th>\n",
       "      <td>0.0</td>\n",
       "    </tr>\n",
       "    <tr>\n",
       "      <th>119</th>\n",
       "      <td>1.0</td>\n",
       "    </tr>\n",
       "  </tbody>\n",
       "</table>\n",
       "</div>"
      ],
      "text/plain": [
       "     Sepssis\n",
       "115      1.0\n",
       "116      0.0\n",
       "117      0.0\n",
       "118      0.0\n",
       "119      1.0"
      ]
     },
     "execution_count": 143,
     "metadata": {},
     "output_type": "execute_result"
    }
   ],
   "source": [
    "# Make predictions on the eval dataset\n",
    "\n",
    "y_pred = pd.DataFrame(dt.predict(X_eval_scaled), columns=[\"Sepssis\"])\n",
    "y_pred.tail()"
   ]
  },
  {
   "cell_type": "code",
   "execution_count": 144,
   "metadata": {},
   "outputs": [
    {
     "data": {
      "text/html": [
       "<div>\n",
       "<style scoped>\n",
       "    .dataframe tbody tr th:only-of-type {\n",
       "        vertical-align: middle;\n",
       "    }\n",
       "\n",
       "    .dataframe tbody tr th {\n",
       "        vertical-align: top;\n",
       "    }\n",
       "\n",
       "    .dataframe thead th {\n",
       "        text-align: right;\n",
       "    }\n",
       "</style>\n",
       "<table border=\"1\" class=\"dataframe\">\n",
       "  <thead>\n",
       "    <tr style=\"text-align: right;\">\n",
       "      <th></th>\n",
       "      <th>PRG</th>\n",
       "      <th>PL</th>\n",
       "      <th>PR</th>\n",
       "      <th>SK</th>\n",
       "      <th>TS</th>\n",
       "      <th>M11</th>\n",
       "      <th>BD2</th>\n",
       "      <th>Age</th>\n",
       "      <th>Insurance</th>\n",
       "      <th>Sepssis</th>\n",
       "    </tr>\n",
       "  </thead>\n",
       "  <tbody>\n",
       "    <tr>\n",
       "      <th>0</th>\n",
       "      <td>-0.263656</td>\n",
       "      <td>-0.978634</td>\n",
       "      <td>-0.539557</td>\n",
       "      <td>-0.606739</td>\n",
       "      <td>-0.207346</td>\n",
       "      <td>-0.939477</td>\n",
       "      <td>-0.645614</td>\n",
       "      <td>-0.975877</td>\n",
       "      <td>0.678503</td>\n",
       "      <td>0.0</td>\n",
       "    </tr>\n",
       "    <tr>\n",
       "      <th>1</th>\n",
       "      <td>1.536217</td>\n",
       "      <td>1.143325</td>\n",
       "      <td>0.916487</td>\n",
       "      <td>0.468724</td>\n",
       "      <td>0.755709</td>\n",
       "      <td>0.321649</td>\n",
       "      <td>1.972541</td>\n",
       "      <td>0.734810</td>\n",
       "      <td>0.678503</td>\n",
       "      <td>1.0</td>\n",
       "    </tr>\n",
       "    <tr>\n",
       "      <th>2</th>\n",
       "      <td>-1.163592</td>\n",
       "      <td>-0.572966</td>\n",
       "      <td>-0.331551</td>\n",
       "      <td>-1.302627</td>\n",
       "      <td>-0.722247</td>\n",
       "      <td>-1.324452</td>\n",
       "      <td>-0.449678</td>\n",
       "      <td>-0.719274</td>\n",
       "      <td>0.678503</td>\n",
       "      <td>0.0</td>\n",
       "    </tr>\n",
       "    <tr>\n",
       "      <th>3</th>\n",
       "      <td>-0.563634</td>\n",
       "      <td>0.831272</td>\n",
       "      <td>0.396471</td>\n",
       "      <td>0.911561</td>\n",
       "      <td>1.127582</td>\n",
       "      <td>0.839374</td>\n",
       "      <td>-0.469556</td>\n",
       "      <td>-0.377137</td>\n",
       "      <td>0.678503</td>\n",
       "      <td>1.0</td>\n",
       "    </tr>\n",
       "    <tr>\n",
       "      <th>4</th>\n",
       "      <td>-1.163592</td>\n",
       "      <td>-0.167297</td>\n",
       "      <td>0.604477</td>\n",
       "      <td>0.848299</td>\n",
       "      <td>1.995285</td>\n",
       "      <td>1.635875</td>\n",
       "      <td>-0.929578</td>\n",
       "      <td>-0.548206</td>\n",
       "      <td>0.678503</td>\n",
       "      <td>0.0</td>\n",
       "    </tr>\n",
       "  </tbody>\n",
       "</table>\n",
       "</div>"
      ],
      "text/plain": [
       "        PRG        PL        PR        SK        TS       M11       BD2  \\\n",
       "0 -0.263656 -0.978634 -0.539557 -0.606739 -0.207346 -0.939477 -0.645614   \n",
       "1  1.536217  1.143325  0.916487  0.468724  0.755709  0.321649  1.972541   \n",
       "2 -1.163592 -0.572966 -0.331551 -1.302627 -0.722247 -1.324452 -0.449678   \n",
       "3 -0.563634  0.831272  0.396471  0.911561  1.127582  0.839374 -0.469556   \n",
       "4 -1.163592 -0.167297  0.604477  0.848299  1.995285  1.635875 -0.929578   \n",
       "\n",
       "        Age  Insurance  Sepssis  \n",
       "0 -0.975877   0.678503      0.0  \n",
       "1  0.734810   0.678503      1.0  \n",
       "2 -0.719274   0.678503      0.0  \n",
       "3 -0.377137   0.678503      1.0  \n",
       "4 -0.548206   0.678503      0.0  "
      ]
     },
     "execution_count": 144,
     "metadata": {},
     "output_type": "execute_result"
    }
   ],
   "source": [
    "# Concat evluation data and predicted to have a glance of full dataset\n",
    "\n",
    "dt_data = pd.concat([X_eval_scaled, y_pred], axis=1)\n",
    "dt_data.head()"
   ]
  },
  {
   "cell_type": "code",
   "execution_count": 145,
   "metadata": {},
   "outputs": [
    {
     "name": "stdout",
     "output_type": "stream",
     "text": [
      "              precision    recall  f1-score   support\n",
      "\n",
      "         0.0       0.79      0.78      0.79        78\n",
      "         1.0       0.60      0.62      0.61        42\n",
      "\n",
      "    accuracy                           0.73       120\n",
      "   macro avg       0.70      0.70      0.70       120\n",
      "weighted avg       0.73      0.72      0.73       120\n",
      "\n"
     ]
    }
   ],
   "source": [
    "# Check classification report\n",
    "\n",
    "cr = classification_report(y_eval_enc, y_pred)\n",
    "print(cr)"
   ]
  },
  {
   "cell_type": "code",
   "execution_count": 146,
   "metadata": {},
   "outputs": [
    {
     "name": "stdout",
     "output_type": "stream",
     "text": [
      "Accuracy: 0.72\n",
      "Precision: 0.60\n",
      "Recall: 0.62\n",
      "F1-score: 0.79\n",
      "RMSLE: 0.36\n"
     ]
    }
   ],
   "source": [
    "# Evaluate the metric scores of the Decisonn Tree model\n",
    "\n",
    "# Calculate the accuracy score\n",
    "dt_accuracy = accuracy_score(y_eval_enc, y_pred)\n",
    "\n",
    "# Calculate the precision score\n",
    "dt_precision = precision_score(y_eval_enc, y_pred, pos_label=1.0)\n",
    "\n",
    "# Calculate the recall score\n",
    "dt_recall = recall_score(y_eval_enc, y_pred, pos_label=1.0)\n",
    "\n",
    "# Calculate the F1-score\n",
    "dt_f1 = f1_score(y_eval_enc, y_pred, pos_label=0.0)\n",
    "\n",
    "# Calculate the Root Mean Squared Log Error(RMSLE)\n",
    "dt_rmsle = np.sqrt(mean_squared_log_error(y_eval_enc, y_pred)).round(2)\n",
    "\n",
    "\n",
    "# Print the evaluation metrics\n",
    "print(\"Accuracy: {:.2f}\".format(dt_accuracy))\n",
    "print(\"Precision: {:.2f}\".format(dt_precision))\n",
    "print(\"Recall: {:.2f}\".format(dt_recall))\n",
    "print(\"F1-score: {:.2f}\".format(dt_f1))\n",
    "print(\"RMSLE: {:.2f}\".format(dt_rmsle))"
   ]
  },
  {
   "cell_type": "markdown",
   "metadata": {},
   "source": [
    "### Neural Networks"
   ]
  },
  {
   "cell_type": "code",
   "execution_count": 147,
   "metadata": {},
   "outputs": [
    {
     "name": "stderr",
     "output_type": "stream",
     "text": [
      "C:\\Users\\elvis_d\\DATA_ANALYTICS\\venv_da\\Lib\\site-packages\\sklearn\\neural_network\\_multilayer_perceptron.py:1098: DataConversionWarning: A column-vector y was passed when a 1d array was expected. Please change the shape of y to (n_samples, ), for example using ravel().\n",
      "  y = column_or_1d(y, warn=True)\n"
     ]
    },
    {
     "data": {
      "text/html": [
       "<style>#sk-container-id-8 {color: black;background-color: white;}#sk-container-id-8 pre{padding: 0;}#sk-container-id-8 div.sk-toggleable {background-color: white;}#sk-container-id-8 label.sk-toggleable__label {cursor: pointer;display: block;width: 100%;margin-bottom: 0;padding: 0.3em;box-sizing: border-box;text-align: center;}#sk-container-id-8 label.sk-toggleable__label-arrow:before {content: \"▸\";float: left;margin-right: 0.25em;color: #696969;}#sk-container-id-8 label.sk-toggleable__label-arrow:hover:before {color: black;}#sk-container-id-8 div.sk-estimator:hover label.sk-toggleable__label-arrow:before {color: black;}#sk-container-id-8 div.sk-toggleable__content {max-height: 0;max-width: 0;overflow: hidden;text-align: left;background-color: #f0f8ff;}#sk-container-id-8 div.sk-toggleable__content pre {margin: 0.2em;color: black;border-radius: 0.25em;background-color: #f0f8ff;}#sk-container-id-8 input.sk-toggleable__control:checked~div.sk-toggleable__content {max-height: 200px;max-width: 100%;overflow: auto;}#sk-container-id-8 input.sk-toggleable__control:checked~label.sk-toggleable__label-arrow:before {content: \"▾\";}#sk-container-id-8 div.sk-estimator input.sk-toggleable__control:checked~label.sk-toggleable__label {background-color: #d4ebff;}#sk-container-id-8 div.sk-label input.sk-toggleable__control:checked~label.sk-toggleable__label {background-color: #d4ebff;}#sk-container-id-8 input.sk-hidden--visually {border: 0;clip: rect(1px 1px 1px 1px);clip: rect(1px, 1px, 1px, 1px);height: 1px;margin: -1px;overflow: hidden;padding: 0;position: absolute;width: 1px;}#sk-container-id-8 div.sk-estimator {font-family: monospace;background-color: #f0f8ff;border: 1px dotted black;border-radius: 0.25em;box-sizing: border-box;margin-bottom: 0.5em;}#sk-container-id-8 div.sk-estimator:hover {background-color: #d4ebff;}#sk-container-id-8 div.sk-parallel-item::after {content: \"\";width: 100%;border-bottom: 1px solid gray;flex-grow: 1;}#sk-container-id-8 div.sk-label:hover label.sk-toggleable__label {background-color: #d4ebff;}#sk-container-id-8 div.sk-serial::before {content: \"\";position: absolute;border-left: 1px solid gray;box-sizing: border-box;top: 0;bottom: 0;left: 50%;z-index: 0;}#sk-container-id-8 div.sk-serial {display: flex;flex-direction: column;align-items: center;background-color: white;padding-right: 0.2em;padding-left: 0.2em;position: relative;}#sk-container-id-8 div.sk-item {position: relative;z-index: 1;}#sk-container-id-8 div.sk-parallel {display: flex;align-items: stretch;justify-content: center;background-color: white;position: relative;}#sk-container-id-8 div.sk-item::before, #sk-container-id-8 div.sk-parallel-item::before {content: \"\";position: absolute;border-left: 1px solid gray;box-sizing: border-box;top: 0;bottom: 0;left: 50%;z-index: -1;}#sk-container-id-8 div.sk-parallel-item {display: flex;flex-direction: column;z-index: 1;position: relative;background-color: white;}#sk-container-id-8 div.sk-parallel-item:first-child::after {align-self: flex-end;width: 50%;}#sk-container-id-8 div.sk-parallel-item:last-child::after {align-self: flex-start;width: 50%;}#sk-container-id-8 div.sk-parallel-item:only-child::after {width: 0;}#sk-container-id-8 div.sk-dashed-wrapped {border: 1px dashed gray;margin: 0 0.4em 0.5em 0.4em;box-sizing: border-box;padding-bottom: 0.4em;background-color: white;}#sk-container-id-8 div.sk-label label {font-family: monospace;font-weight: bold;display: inline-block;line-height: 1.2em;}#sk-container-id-8 div.sk-label-container {text-align: center;}#sk-container-id-8 div.sk-container {/* jupyter's `normalize.less` sets `[hidden] { display: none; }` but bootstrap.min.css set `[hidden] { display: none !important; }` so we also need the `!important` here to be able to override the default hidden behavior on the sphinx rendered scikit-learn.org. See: https://github.com/scikit-learn/scikit-learn/issues/21755 */display: inline-block !important;position: relative;}#sk-container-id-8 div.sk-text-repr-fallback {display: none;}</style><div id=\"sk-container-id-8\" class=\"sk-top-container\"><div class=\"sk-text-repr-fallback\"><pre>MLPClassifier(hidden_layer_sizes=(10,), max_iter=1000)</pre><b>In a Jupyter environment, please rerun this cell to show the HTML representation or trust the notebook. <br />On GitHub, the HTML representation is unable to render, please try loading this page with nbviewer.org.</b></div><div class=\"sk-container\" hidden><div class=\"sk-item\"><div class=\"sk-estimator sk-toggleable\"><input class=\"sk-toggleable__control sk-hidden--visually\" id=\"sk-estimator-id-8\" type=\"checkbox\" checked><label for=\"sk-estimator-id-8\" class=\"sk-toggleable__label sk-toggleable__label-arrow\">MLPClassifier</label><div class=\"sk-toggleable__content\"><pre>MLPClassifier(hidden_layer_sizes=(10,), max_iter=1000)</pre></div></div></div></div></div>"
      ],
      "text/plain": [
       "MLPClassifier(hidden_layer_sizes=(10,), max_iter=1000)"
      ]
     },
     "execution_count": 147,
     "metadata": {},
     "output_type": "execute_result"
    }
   ],
   "source": [
    "# Define the MLP classifier with 1 hidden layer of 10 neurons\n",
    "mlp = MLPClassifier(hidden_layer_sizes=(10,), max_iter=1000)\n",
    "\n",
    "# Fit the MLP model on the training dataset\n",
    "mlp.fit(X_train_scaled, y_train_enc)"
   ]
  },
  {
   "cell_type": "code",
   "execution_count": 148,
   "metadata": {},
   "outputs": [
    {
     "data": {
      "text/html": [
       "<div>\n",
       "<style scoped>\n",
       "    .dataframe tbody tr th:only-of-type {\n",
       "        vertical-align: middle;\n",
       "    }\n",
       "\n",
       "    .dataframe tbody tr th {\n",
       "        vertical-align: top;\n",
       "    }\n",
       "\n",
       "    .dataframe thead th {\n",
       "        text-align: right;\n",
       "    }\n",
       "</style>\n",
       "<table border=\"1\" class=\"dataframe\">\n",
       "  <thead>\n",
       "    <tr style=\"text-align: right;\">\n",
       "      <th></th>\n",
       "      <th>Sepssis</th>\n",
       "    </tr>\n",
       "  </thead>\n",
       "  <tbody>\n",
       "    <tr>\n",
       "      <th>115</th>\n",
       "      <td>0.0</td>\n",
       "    </tr>\n",
       "    <tr>\n",
       "      <th>116</th>\n",
       "      <td>0.0</td>\n",
       "    </tr>\n",
       "    <tr>\n",
       "      <th>117</th>\n",
       "      <td>0.0</td>\n",
       "    </tr>\n",
       "    <tr>\n",
       "      <th>118</th>\n",
       "      <td>0.0</td>\n",
       "    </tr>\n",
       "    <tr>\n",
       "      <th>119</th>\n",
       "      <td>1.0</td>\n",
       "    </tr>\n",
       "  </tbody>\n",
       "</table>\n",
       "</div>"
      ],
      "text/plain": [
       "     Sepssis\n",
       "115      0.0\n",
       "116      0.0\n",
       "117      0.0\n",
       "118      0.0\n",
       "119      1.0"
      ]
     },
     "execution_count": 148,
     "metadata": {},
     "output_type": "execute_result"
    }
   ],
   "source": [
    "# Make predictions on the eval dataset\n",
    "\n",
    "y_pred = pd.DataFrame(mlp.predict(X_eval_scaled), columns=[\"Sepssis\"])\n",
    "y_pred.tail()"
   ]
  },
  {
   "cell_type": "code",
   "execution_count": 149,
   "metadata": {},
   "outputs": [
    {
     "data": {
      "text/html": [
       "<div>\n",
       "<style scoped>\n",
       "    .dataframe tbody tr th:only-of-type {\n",
       "        vertical-align: middle;\n",
       "    }\n",
       "\n",
       "    .dataframe tbody tr th {\n",
       "        vertical-align: top;\n",
       "    }\n",
       "\n",
       "    .dataframe thead th {\n",
       "        text-align: right;\n",
       "    }\n",
       "</style>\n",
       "<table border=\"1\" class=\"dataframe\">\n",
       "  <thead>\n",
       "    <tr style=\"text-align: right;\">\n",
       "      <th></th>\n",
       "      <th>PRG</th>\n",
       "      <th>PL</th>\n",
       "      <th>PR</th>\n",
       "      <th>SK</th>\n",
       "      <th>TS</th>\n",
       "      <th>M11</th>\n",
       "      <th>BD2</th>\n",
       "      <th>Age</th>\n",
       "      <th>Insurance</th>\n",
       "      <th>Sepssis</th>\n",
       "    </tr>\n",
       "  </thead>\n",
       "  <tbody>\n",
       "    <tr>\n",
       "      <th>0</th>\n",
       "      <td>-0.263656</td>\n",
       "      <td>-0.978634</td>\n",
       "      <td>-0.539557</td>\n",
       "      <td>-0.606739</td>\n",
       "      <td>-0.207346</td>\n",
       "      <td>-0.939477</td>\n",
       "      <td>-0.645614</td>\n",
       "      <td>-0.975877</td>\n",
       "      <td>0.678503</td>\n",
       "      <td>0.0</td>\n",
       "    </tr>\n",
       "    <tr>\n",
       "      <th>1</th>\n",
       "      <td>1.536217</td>\n",
       "      <td>1.143325</td>\n",
       "      <td>0.916487</td>\n",
       "      <td>0.468724</td>\n",
       "      <td>0.755709</td>\n",
       "      <td>0.321649</td>\n",
       "      <td>1.972541</td>\n",
       "      <td>0.734810</td>\n",
       "      <td>0.678503</td>\n",
       "      <td>1.0</td>\n",
       "    </tr>\n",
       "    <tr>\n",
       "      <th>2</th>\n",
       "      <td>-1.163592</td>\n",
       "      <td>-0.572966</td>\n",
       "      <td>-0.331551</td>\n",
       "      <td>-1.302627</td>\n",
       "      <td>-0.722247</td>\n",
       "      <td>-1.324452</td>\n",
       "      <td>-0.449678</td>\n",
       "      <td>-0.719274</td>\n",
       "      <td>0.678503</td>\n",
       "      <td>0.0</td>\n",
       "    </tr>\n",
       "    <tr>\n",
       "      <th>3</th>\n",
       "      <td>-0.563634</td>\n",
       "      <td>0.831272</td>\n",
       "      <td>0.396471</td>\n",
       "      <td>0.911561</td>\n",
       "      <td>1.127582</td>\n",
       "      <td>0.839374</td>\n",
       "      <td>-0.469556</td>\n",
       "      <td>-0.377137</td>\n",
       "      <td>0.678503</td>\n",
       "      <td>1.0</td>\n",
       "    </tr>\n",
       "    <tr>\n",
       "      <th>4</th>\n",
       "      <td>-1.163592</td>\n",
       "      <td>-0.167297</td>\n",
       "      <td>0.604477</td>\n",
       "      <td>0.848299</td>\n",
       "      <td>1.995285</td>\n",
       "      <td>1.635875</td>\n",
       "      <td>-0.929578</td>\n",
       "      <td>-0.548206</td>\n",
       "      <td>0.678503</td>\n",
       "      <td>0.0</td>\n",
       "    </tr>\n",
       "  </tbody>\n",
       "</table>\n",
       "</div>"
      ],
      "text/plain": [
       "        PRG        PL        PR        SK        TS       M11       BD2  \\\n",
       "0 -0.263656 -0.978634 -0.539557 -0.606739 -0.207346 -0.939477 -0.645614   \n",
       "1  1.536217  1.143325  0.916487  0.468724  0.755709  0.321649  1.972541   \n",
       "2 -1.163592 -0.572966 -0.331551 -1.302627 -0.722247 -1.324452 -0.449678   \n",
       "3 -0.563634  0.831272  0.396471  0.911561  1.127582  0.839374 -0.469556   \n",
       "4 -1.163592 -0.167297  0.604477  0.848299  1.995285  1.635875 -0.929578   \n",
       "\n",
       "        Age  Insurance  Sepssis  \n",
       "0 -0.975877   0.678503      0.0  \n",
       "1  0.734810   0.678503      1.0  \n",
       "2 -0.719274   0.678503      0.0  \n",
       "3 -0.377137   0.678503      1.0  \n",
       "4 -0.548206   0.678503      0.0  "
      ]
     },
     "execution_count": 149,
     "metadata": {},
     "output_type": "execute_result"
    }
   ],
   "source": [
    "# Concat evluation data and predicted to have a glance of full dataset\n",
    "\n",
    "mlp_data = pd.concat([X_eval_scaled, y_pred], axis=1)\n",
    "mlp_data.head()"
   ]
  },
  {
   "cell_type": "code",
   "execution_count": 150,
   "metadata": {},
   "outputs": [
    {
     "name": "stdout",
     "output_type": "stream",
     "text": [
      "              precision    recall  f1-score   support\n",
      "\n",
      "         0.0       0.77      0.76      0.76        78\n",
      "         1.0       0.56      0.57      0.56        42\n",
      "\n",
      "    accuracy                           0.69       120\n",
      "   macro avg       0.66      0.66      0.66       120\n",
      "weighted avg       0.69      0.69      0.69       120\n",
      "\n"
     ]
    }
   ],
   "source": [
    "# Check classification report\n",
    "\n",
    "cr = classification_report(y_eval_enc, y_pred)\n",
    "print(cr)"
   ]
  },
  {
   "cell_type": "code",
   "execution_count": 151,
   "metadata": {},
   "outputs": [
    {
     "name": "stdout",
     "output_type": "stream",
     "text": [
      "Accuracy: 0.69\n",
      "Precision: 0.56\n",
      "Recall: 0.57\n",
      "F1-score: 0.76\n",
      "RMSLE: 0.38\n"
     ]
    }
   ],
   "source": [
    "# Evaluate the metric scores of the Decisonn Tree model\n",
    "\n",
    "# Calculate the accuracy score\n",
    "mlp_accuracy = accuracy_score(y_eval_enc, y_pred)\n",
    "\n",
    "# Calculate the precision score\n",
    "mlp_precision = precision_score(y_eval_enc, y_pred, pos_label=1.0)\n",
    "\n",
    "# Calculate the recall score\n",
    "mlp_recall = recall_score(y_eval_enc, y_pred, pos_label=1.0)\n",
    "\n",
    "# Calculate the F1-score\n",
    "mlp_f1 = f1_score(y_eval_enc, y_pred, pos_label=0.0)\n",
    "\n",
    "# Calculate the Root Mean Squared Log Error(RMSLE)\n",
    "mlp_rmsle = np.sqrt(mean_squared_log_error(y_eval_enc, y_pred)).round(2)\n",
    "\n",
    "\n",
    "# Print the evaluation metrics\n",
    "print(\"Accuracy: {:.2f}\".format(mlp_accuracy))\n",
    "print(\"Precision: {:.2f}\".format(mlp_precision))\n",
    "print(\"Recall: {:.2f}\".format(mlp_recall))\n",
    "print(\"F1-score: {:.2f}\".format(mlp_f1))\n",
    "print(\"RMSLE: {:.2f}\".format(mlp_rmsle))"
   ]
  },
  {
   "cell_type": "markdown",
   "metadata": {},
   "source": [
    "### Evaluation for all Models"
   ]
  },
  {
   "cell_type": "code",
   "execution_count": 152,
   "metadata": {},
   "outputs": [
    {
     "data": {
      "text/html": [
       "<div>\n",
       "<style scoped>\n",
       "    .dataframe tbody tr th:only-of-type {\n",
       "        vertical-align: middle;\n",
       "    }\n",
       "\n",
       "    .dataframe tbody tr th {\n",
       "        vertical-align: top;\n",
       "    }\n",
       "\n",
       "    .dataframe thead th {\n",
       "        text-align: right;\n",
       "    }\n",
       "</style>\n",
       "<table border=\"1\" class=\"dataframe\">\n",
       "  <thead>\n",
       "    <tr style=\"text-align: right;\">\n",
       "      <th></th>\n",
       "      <th>ACCURACY</th>\n",
       "      <th>PRECISION</th>\n",
       "      <th>RECALL</th>\n",
       "      <th>F1-SCORE</th>\n",
       "      <th>RMSLE</th>\n",
       "    </tr>\n",
       "  </thead>\n",
       "  <tbody>\n",
       "    <tr>\n",
       "      <th>k Nearest Neighbour</th>\n",
       "      <td>0.725000</td>\n",
       "      <td>0.615385</td>\n",
       "      <td>0.571429</td>\n",
       "      <td>0.792453</td>\n",
       "      <td>0.36</td>\n",
       "    </tr>\n",
       "    <tr>\n",
       "      <th>Gradient Boosting</th>\n",
       "      <td>0.716667</td>\n",
       "      <td>0.611111</td>\n",
       "      <td>0.523810</td>\n",
       "      <td>0.790123</td>\n",
       "      <td>0.37</td>\n",
       "    </tr>\n",
       "    <tr>\n",
       "      <th>Decsion Tree Classifier</th>\n",
       "      <td>0.725000</td>\n",
       "      <td>0.604651</td>\n",
       "      <td>0.619048</td>\n",
       "      <td>0.787097</td>\n",
       "      <td>0.36</td>\n",
       "    </tr>\n",
       "    <tr>\n",
       "      <th>Neural Networks</th>\n",
       "      <td>0.691667</td>\n",
       "      <td>0.558140</td>\n",
       "      <td>0.571429</td>\n",
       "      <td>0.761290</td>\n",
       "      <td>0.38</td>\n",
       "    </tr>\n",
       "  </tbody>\n",
       "</table>\n",
       "</div>"
      ],
      "text/plain": [
       "                         ACCURACY  PRECISION    RECALL  F1-SCORE  RMSLE\n",
       "k Nearest Neighbour      0.725000   0.615385  0.571429  0.792453   0.36\n",
       "Gradient Boosting        0.716667   0.611111  0.523810  0.790123   0.37\n",
       "Decsion Tree Classifier  0.725000   0.604651  0.619048  0.787097   0.36\n",
       "Neural Networks          0.691667   0.558140  0.571429  0.761290   0.38"
      ]
     },
     "execution_count": 152,
     "metadata": {},
     "output_type": "execute_result"
    }
   ],
   "source": [
    "#Summary of the results\n",
    "evaluation_metrics = ['ACCURACY', 'PRECISION', 'RECALL', 'F1-SCORE', 'RMSLE']\n",
    "\n",
    "models = ['k Nearest Neighbour', 'Gradient Boosting', 'Decsion Tree Classifier', 'Neural Networks']\n",
    "\n",
    "results = [[knn_accuracy, knn_precision, knn_recall, knn_f1, knn_rmsle],\n",
    "           [gbm_accuracy, gbm_precision, gbm_recall, gbm_f1, gbm_rmsle],\n",
    "           [dt_accuracy, dt_precision, dt_recall, dt_f1, dt_rmsle],\n",
    "           [mlp_accuracy, mlp_precision, mlp_recall, mlp_f1,mlp_rmsle]]\n",
    "\n",
    "results_table = pd.DataFrame(data=results, columns=evaluation_metrics, index=models)\n",
    "results_table"
   ]
  },
  {
   "cell_type": "markdown",
   "metadata": {},
   "source": [
    "The best performing model is the DecisonTree Classifier"
   ]
  },
  {
   "cell_type": "markdown",
   "metadata": {},
   "source": [
    "### Save best performing model to local machine"
   ]
  },
  {
   "cell_type": "code",
   "execution_count": 153,
   "metadata": {},
   "outputs": [
    {
     "data": {
      "text/plain": [
       "['sepssis_predict.joblib']"
      ]
     },
     "execution_count": 153,
     "metadata": {},
     "output_type": "execute_result"
    }
   ],
   "source": [
    "# # Save selected model to disk (Decision tree classifier)\n",
    "filename = \"sepssis_predict.joblib\"\n",
    "joblib.dump(dt, filename)"
   ]
  },
  {
   "cell_type": "markdown",
   "metadata": {},
   "source": [
    "### save standard scaler"
   ]
  },
  {
   "cell_type": "code",
   "execution_count": 154,
   "metadata": {},
   "outputs": [
    {
     "data": {
      "text/plain": [
       "['scaler.joblb']"
      ]
     },
     "execution_count": 154,
     "metadata": {},
     "output_type": "execute_result"
    }
   ],
   "source": [
    "filename = \"scaler.joblb\"\n",
    "joblib.dump(scaler, filename)"
   ]
  },
  {
   "cell_type": "markdown",
   "metadata": {},
   "source": [
    "### Save Imputer"
   ]
  },
  {
   "cell_type": "code",
   "execution_count": 155,
   "metadata": {},
   "outputs": [
    {
     "data": {
      "text/plain": [
       "['imputer.joblb']"
      ]
     },
     "execution_count": 155,
     "metadata": {},
     "output_type": "execute_result"
    }
   ],
   "source": [
    "filename = \"imputer.joblb\"\n",
    "joblib.dump(imputer, filename)"
   ]
  },
  {
   "cell_type": "markdown",
   "metadata": {},
   "source": [
    "### Use saved model to predict Sepssis status using test data"
   ]
  },
  {
   "cell_type": "code",
   "execution_count": 156,
   "metadata": {},
   "outputs": [
    {
     "data": {
      "text/html": [
       "<div>\n",
       "<style scoped>\n",
       "    .dataframe tbody tr th:only-of-type {\n",
       "        vertical-align: middle;\n",
       "    }\n",
       "\n",
       "    .dataframe tbody tr th {\n",
       "        vertical-align: top;\n",
       "    }\n",
       "\n",
       "    .dataframe thead th {\n",
       "        text-align: right;\n",
       "    }\n",
       "</style>\n",
       "<table border=\"1\" class=\"dataframe\">\n",
       "  <thead>\n",
       "    <tr style=\"text-align: right;\">\n",
       "      <th></th>\n",
       "      <th>PRG</th>\n",
       "      <th>PL</th>\n",
       "      <th>PR</th>\n",
       "      <th>SK</th>\n",
       "      <th>TS</th>\n",
       "      <th>M11</th>\n",
       "      <th>BD2</th>\n",
       "      <th>Age</th>\n",
       "      <th>Insurance</th>\n",
       "      <th>Sepssis</th>\n",
       "    </tr>\n",
       "  </thead>\n",
       "  <tbody>\n",
       "    <tr>\n",
       "      <th>0</th>\n",
       "      <td>1.0</td>\n",
       "      <td>109.0</td>\n",
       "      <td>38.0</td>\n",
       "      <td>18.0</td>\n",
       "      <td>120.0</td>\n",
       "      <td>23.1</td>\n",
       "      <td>0.407</td>\n",
       "      <td>26.0</td>\n",
       "      <td>1.0</td>\n",
       "      <td>0.0</td>\n",
       "    </tr>\n",
       "    <tr>\n",
       "      <th>1</th>\n",
       "      <td>1.0</td>\n",
       "      <td>108.0</td>\n",
       "      <td>88.0</td>\n",
       "      <td>19.0</td>\n",
       "      <td>0.0</td>\n",
       "      <td>27.1</td>\n",
       "      <td>0.400</td>\n",
       "      <td>24.0</td>\n",
       "      <td>1.0</td>\n",
       "      <td>1.0</td>\n",
       "    </tr>\n",
       "    <tr>\n",
       "      <th>2</th>\n",
       "      <td>6.0</td>\n",
       "      <td>96.0</td>\n",
       "      <td>0.0</td>\n",
       "      <td>0.0</td>\n",
       "      <td>0.0</td>\n",
       "      <td>23.7</td>\n",
       "      <td>0.190</td>\n",
       "      <td>28.0</td>\n",
       "      <td>1.0</td>\n",
       "      <td>0.0</td>\n",
       "    </tr>\n",
       "    <tr>\n",
       "      <th>3</th>\n",
       "      <td>1.0</td>\n",
       "      <td>124.0</td>\n",
       "      <td>74.0</td>\n",
       "      <td>36.0</td>\n",
       "      <td>0.0</td>\n",
       "      <td>27.8</td>\n",
       "      <td>0.100</td>\n",
       "      <td>30.0</td>\n",
       "      <td>1.0</td>\n",
       "      <td>1.0</td>\n",
       "    </tr>\n",
       "    <tr>\n",
       "      <th>4</th>\n",
       "      <td>7.0</td>\n",
       "      <td>150.0</td>\n",
       "      <td>78.0</td>\n",
       "      <td>29.0</td>\n",
       "      <td>126.0</td>\n",
       "      <td>35.2</td>\n",
       "      <td>0.692</td>\n",
       "      <td>54.0</td>\n",
       "      <td>0.0</td>\n",
       "      <td>0.0</td>\n",
       "    </tr>\n",
       "    <tr>\n",
       "      <th>...</th>\n",
       "      <td>...</td>\n",
       "      <td>...</td>\n",
       "      <td>...</td>\n",
       "      <td>...</td>\n",
       "      <td>...</td>\n",
       "      <td>...</td>\n",
       "      <td>...</td>\n",
       "      <td>...</td>\n",
       "      <td>...</td>\n",
       "      <td>...</td>\n",
       "    </tr>\n",
       "    <tr>\n",
       "      <th>164</th>\n",
       "      <td>10.0</td>\n",
       "      <td>101.0</td>\n",
       "      <td>76.0</td>\n",
       "      <td>48.0</td>\n",
       "      <td>180.0</td>\n",
       "      <td>32.9</td>\n",
       "      <td>0.171</td>\n",
       "      <td>63.0</td>\n",
       "      <td>1.0</td>\n",
       "      <td>0.0</td>\n",
       "    </tr>\n",
       "    <tr>\n",
       "      <th>165</th>\n",
       "      <td>2.0</td>\n",
       "      <td>122.0</td>\n",
       "      <td>70.0</td>\n",
       "      <td>27.0</td>\n",
       "      <td>0.0</td>\n",
       "      <td>36.8</td>\n",
       "      <td>0.340</td>\n",
       "      <td>27.0</td>\n",
       "      <td>1.0</td>\n",
       "      <td>1.0</td>\n",
       "    </tr>\n",
       "    <tr>\n",
       "      <th>166</th>\n",
       "      <td>5.0</td>\n",
       "      <td>121.0</td>\n",
       "      <td>72.0</td>\n",
       "      <td>23.0</td>\n",
       "      <td>112.0</td>\n",
       "      <td>26.2</td>\n",
       "      <td>0.245</td>\n",
       "      <td>30.0</td>\n",
       "      <td>1.0</td>\n",
       "      <td>0.0</td>\n",
       "    </tr>\n",
       "    <tr>\n",
       "      <th>167</th>\n",
       "      <td>1.0</td>\n",
       "      <td>126.0</td>\n",
       "      <td>60.0</td>\n",
       "      <td>0.0</td>\n",
       "      <td>0.0</td>\n",
       "      <td>30.1</td>\n",
       "      <td>0.349</td>\n",
       "      <td>47.0</td>\n",
       "      <td>1.0</td>\n",
       "      <td>0.0</td>\n",
       "    </tr>\n",
       "    <tr>\n",
       "      <th>168</th>\n",
       "      <td>1.0</td>\n",
       "      <td>93.0</td>\n",
       "      <td>70.0</td>\n",
       "      <td>31.0</td>\n",
       "      <td>0.0</td>\n",
       "      <td>30.4</td>\n",
       "      <td>0.315</td>\n",
       "      <td>23.0</td>\n",
       "      <td>1.0</td>\n",
       "      <td>1.0</td>\n",
       "    </tr>\n",
       "  </tbody>\n",
       "</table>\n",
       "<p>169 rows × 10 columns</p>\n",
       "</div>"
      ],
      "text/plain": [
       "      PRG     PL    PR    SK     TS   M11    BD2   Age  Insurance  Sepssis\n",
       "0     1.0  109.0  38.0  18.0  120.0  23.1  0.407  26.0        1.0      0.0\n",
       "1     1.0  108.0  88.0  19.0    0.0  27.1  0.400  24.0        1.0      1.0\n",
       "2     6.0   96.0   0.0   0.0    0.0  23.7  0.190  28.0        1.0      0.0\n",
       "3     1.0  124.0  74.0  36.0    0.0  27.8  0.100  30.0        1.0      1.0\n",
       "4     7.0  150.0  78.0  29.0  126.0  35.2  0.692  54.0        0.0      0.0\n",
       "..    ...    ...   ...   ...    ...   ...    ...   ...        ...      ...\n",
       "164  10.0  101.0  76.0  48.0  180.0  32.9  0.171  63.0        1.0      0.0\n",
       "165   2.0  122.0  70.0  27.0    0.0  36.8  0.340  27.0        1.0      1.0\n",
       "166   5.0  121.0  72.0  23.0  112.0  26.2  0.245  30.0        1.0      0.0\n",
       "167   1.0  126.0  60.0   0.0    0.0  30.1  0.349  47.0        1.0      0.0\n",
       "168   1.0   93.0  70.0  31.0    0.0  30.4  0.315  23.0        1.0      1.0\n",
       "\n",
       "[169 rows x 10 columns]"
      ]
     },
     "execution_count": 156,
     "metadata": {},
     "output_type": "execute_result"
    }
   ],
   "source": [
    "# Load the trained model from disk\n",
    "loaded_model = joblib.load('sepssis_predict.joblib')\n",
    "\n",
    "# load predicted values in a dataframe\n",
    "y_pred = pd.DataFrame(loaded_model.predict(X_test ), columns=[\"Sepssis\"])\n",
    "\n",
    "# Concact predicted values with test dataset to get a clear view of predicting and target features\n",
    "pred = pd.concat([X_test, y_pred], axis=1)\n",
    "pred"
   ]
  },
  {
   "cell_type": "code",
   "execution_count": 157,
   "metadata": {},
   "outputs": [
    {
     "data": {
      "text/plain": [
       "0.0    134\n",
       "1.0     35\n",
       "Name: Sepssis, dtype: int64"
      ]
     },
     "execution_count": 157,
     "metadata": {},
     "output_type": "execute_result"
    }
   ],
   "source": [
    "# Check the value counts of predicted values\n",
    "pred[\"Sepssis\"].value_counts()"
   ]
  },
  {
   "cell_type": "markdown",
   "metadata": {},
   "source": [
    "From the predicted values, there are 134 sepssis negative cases and 35 sepssis positive cases"
   ]
  }
 ],
 "metadata": {
  "kernelspec": {
   "display_name": "Python 3 (ipykernel)",
   "language": "python",
   "name": "python3"
  },
  "language_info": {
   "codemirror_mode": {
    "name": "ipython",
    "version": 3
   },
   "file_extension": ".py",
   "mimetype": "text/x-python",
   "name": "python",
   "nbconvert_exporter": "python",
   "pygments_lexer": "ipython3",
   "version": "3.11.3"
  }
 },
 "nbformat": 4,
 "nbformat_minor": 2
}
